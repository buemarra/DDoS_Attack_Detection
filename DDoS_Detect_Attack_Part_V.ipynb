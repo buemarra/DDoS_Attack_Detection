{
 "cells": [
  {
   "cell_type": "markdown",
   "id": "a517a17a-78df-4d30-89eb-b7ac31c127ce",
   "metadata": {},
   "source": [
    "<h1> Sistema de Detección de Ciberataques DDoS por Análisis de Tráfico de Red </h1>\n",
    "<h2> Master en IA sobre el sector de la Energía y las infraestructuras </h2><br>\n",
    "\n",
    "<h4><b>Autor: </b> Ramiro Bueno Martínez</h4> \n",
    "<h4><b>Fecha: </b> 11/08/2025</h4> \n",
    "<h4><b>Version: </b> R200</h4>\n",
    "<h4><b>Descripcion: </b> Parte V: Identificación de Patrones y Fases de Ataque </h4>"
   ]
  },
  {
   "cell_type": "markdown",
   "id": "be41491a-508c-4552-be45-efd4ff73955b",
   "metadata": {},
   "source": [
    "<h1> Dataset </h1>\n",
    "Conjunto de Datos relativo a la documentación de un Ataque de Denegación Distribuida de Servicio (DDoS), realizado a partir del conjunto de datos publicado por el Instituto de Ciber Seguridad Canadiense (CIC) el año 2019.\n",
    "\n",
    "<h3> Licencia: </h3>\n",
    "\n",
    "Segun la información proporcionada por el Instituto Canadiense de Ciberseguridad es posible redistribuir,\n",
    "volver a publicar y reflejar el conjunto de datos CICDDoS2019 en cualquier forma.\n",
    "https://www.unb.ca/cic/datasets/ddos-2019.html\n",
    "Sin embargo, cualquier uso o redistribución de los datos debe incluir una cita al conjunto de datos CICDDoS2019 y el artículo publicado relacionado. Un trabajo de investigación en el que se esbozan los detalles de analizar el conjunto de datos IDS/IPS similar y principios relacionados:\n",
    "\n",
    "- Iman Sharafaldin, Arash Habibi Lashkari, Saqib Hakak y Ali A. Ghorbani, ” Developing Realistic Distributed Denial of Service of Service (DDoS) Attack Dataset and Taxonomy “, IEEE 53rd International Carnahan Conference on Security Technology, Chennai, India, 2019. DOI: 10.1109/CCST.2019.8888419"
   ]
  },
  {
   "cell_type": "markdown",
   "id": "d253c933-c440-49e3-9aff-14f30707c8db",
   "metadata": {},
   "source": [
    "<h1> Resumen </h1>\n",
    "\n",
    "El presente cuaderno proporciona soporte a la comparativa desarrollada en el TFM centrado en el desarrollo de Sistemas de Detección y Mitigación de Amenazas para Smart Grids (SG) utilizando tecnologías avanzadas basadas en Inteligencia Artificial (IA). Desde técnicas de Aprendizaje Automático (ML) hasta soluciones basadas en la utilización de Metaheurísticas o Sistemas Autónomos y Multiagente (MAS), se exploran diferentes métodos estableciendo comparativas, que permitan identificar los métodos que ofrecen mejores prestaciones en la detección de anomalías en el tráfico de red."
   ]
  },
  {
   "cell_type": "markdown",
   "id": "93969fea-28ea-4269-bd19-fd4cb3dbbcdd",
   "metadata": {},
   "source": [
    "## Objetivos\n",
    "\n",
    "En el presente cuaderno, se pretende desplegar técnicas basadas en minería de datos, con el objetivo de identificar posibles patrones de ataque a través de diferentes fases del ataque, a partir de los datos del conjunto de datos CICDDoS2019. Como se podrá obserbar no son resultados concluyentes puesto que se intentará explorar y validar algunas hipótesis, en fases previas al ataque que no estan documentadas con tráfico de red, sin embargo nos servirán para realizar un recorrido a través de distintas herramientas y librerías de python, que nos permiten una exploración mas en profundidad e conjuntos de datos, y una visualización de los resultados, por ejemplo a través de Diagramas de Sankey."
   ]
  },
  {
   "cell_type": "code",
   "execution_count": 1,
   "id": "ac271538-6c44-495b-8f27-8ee389230e74",
   "metadata": {},
   "outputs": [
    {
     "name": "stdout",
     "output_type": "stream",
     "text": [
      "--- [IMPORTANTE] Verificando la existencia de los archivos ---\n",
      "El archivo existe: C:/DataSets/asddos2024/Training/Training_Exp_Attack_TCP.csv\n",
      "El archivo existe: C:/DataSets/asddos2024/Training/Training_Exp_Attack_UDP.csv\n",
      "El archivo existe: C:/DataSets/asddos2024/Training/Training_Ref_Attack_MIXED.csv\n",
      "El archivo existe: C:/DataSets/asddos2024/Training/Training_Ref_Attack_TCP.csv\n",
      "El archivo existe: C:/DataSets/asddos2024/Training/Training_Ref_Attack_UDP.csv\n",
      "\n",
      " [CORRECTO] EL CONJUNTO DE DATOS ASDDOS-2019 ESTA DISPONIBLE\n",
      "\n",
      "--- [IMPORTANTE] Verificando el directorio: C:/DataSets/asddos2024/Training ---\n",
      "El directorio 'C:/DataSets/asddos2024/Training' existe.\n"
     ]
    }
   ],
   "source": [
    "import os\n",
    "#from google.colab import drive\n",
    "\n",
    "# Montar Google Drive si aún no está montado\n",
    "#try:\n",
    "#    drive.mount('/content/drive')\n",
    "#except:\n",
    "#    print(\"Drive ya está montado.\")\n",
    "\n",
    "# Ficheros del Conjunto de datos ASDDoS2024\n",
    "_asddos_dataset_paths = [\n",
    "    'C:/DataSets/asddos2024/Training/Training_Exp_Attack_TCP.csv',\n",
    "    'C:/DataSets/asddos2024/Training/Training_Exp_Attack_UDP.csv',\n",
    "    'C:/DataSets/asddos2024/Training/Training_Ref_Attack_MIXED.csv',\n",
    "    'C:/DataSets/asddos2024/Training/Training_Ref_Attack_TCP.csv',\n",
    "    'C:/DataSets/asddos2024/Training/Training_Ref_Attack_UDP.csv'\n",
    "]\n",
    "\n",
    "# Verificar la existencia de cada archivo\n",
    "print(\"--- [IMPORTANTE] Verificando la existencia de los archivos ---\")\n",
    "all_files_exist = True\n",
    "for file_path in _asddos_dataset_paths:\n",
    "    if os.path.exists(file_path):\n",
    "        print(f\"El archivo existe: {file_path}\")\n",
    "    else:\n",
    "        print(f\"El archivo NO existe: {file_path}\")\n",
    "        all_files_exist = False\n",
    "\n",
    "# Resumen\n",
    "if all_files_exist:\n",
    "    print(\"\\n [CORRECTO] EL CONJUNTO DE DATOS ASDDOS-2019 ESTA DISPONIBLE\")\n",
    "else:\n",
    "    print(\"\\n [ERROR] EL CONJUNTO DE DATOS ASDDOS-2019 NO ESTA DISPONIBLE EN SU TOTALIDAD\")\n",
    "\n",
    "# Verificar el directorio\n",
    "dirname = 'C:/DataSets/asddos2024/Training'\n",
    "\n",
    "print(f\"\\n--- [IMPORTANTE] Verificando el directorio: {dirname} ---\")\n",
    "if os.path.isdir(dirname):\n",
    "    print(f\"El directorio '{dirname}' existe.\")\n",
    "else:\n",
    "    print(f\"El directorio '{dirname}' NO existe. POR FAVOR, NO CONTINUE NO TIENE PERMISOS PARA ACCEDER AL CONJUNTO DE DATOS.\")"
   ]
  },
  {
   "cell_type": "code",
   "execution_count": 2,
   "id": "75fd201d-805e-45d1-95f1-31dd4d573434",
   "metadata": {},
   "outputs": [],
   "source": [
    "#pip install seaborn ipython plotly matplotlib numpy scikit-learn tabulate psutil"
   ]
  },
  {
   "cell_type": "code",
   "execution_count": 3,
   "id": "22aedf96-a672-4b00-8797-630ade9c391a",
   "metadata": {},
   "outputs": [],
   "source": [
    "import concurrent.futures\n",
    "import csv\n",
    "import datetime\n",
    "import ipaddress\n",
    "import math\n",
    "import matplotlib.patches as mpatches\n",
    "import matplotlib.pyplot as plt\n",
    "import multiprocessing\n",
    "import numpy as np\n",
    "import os\n",
    "import pandas as pd\n",
    "import pickle\n",
    "import psutil\n",
    "import random\n",
    "import seaborn as sns\n",
    "import sys\n",
    "import time\n",
    "import tracemalloc\n",
    "import warnings\n",
    "from matplotlib.gridspec import GridSpec\n",
    "from sklearn.calibration import CalibratedClassifierCV, CalibrationDisplay\n",
    "from sklearn.decomposition import PCA, TruncatedSVD\n",
    "from sklearn.discriminant_analysis import QuadraticDiscriminantAnalysis\n",
    "from sklearn.ensemble import AdaBoostClassifier, GradientBoostingClassifier, RandomForestClassifier, StackingClassifier\n",
    "from sklearn.impute import SimpleImputer\n",
    "from sklearn.linear_model import LogisticRegression\n",
    "from sklearn.manifold import TSNE\n",
    "from sklearn.metrics import accuracy_score, classification_report, confusion_matrix, f1_score, precision_score, recall_score\n",
    "from sklearn.model_selection import train_test_split\n",
    "from sklearn.naive_bayes import GaussianNB\n",
    "from sklearn.neighbors import KNeighborsClassifier\n",
    "from sklearn.neural_network import MLPClassifier\n",
    "from sklearn.pipeline import Pipeline\n",
    "from sklearn.preprocessing import LabelEncoder, StandardScaler\n",
    "from sklearn.tree import DecisionTreeClassifier\n",
    "from tabulate import tabulate\n",
    "\n",
    "import logging\n",
    "# Configuración de logging\n",
    "logging.basicConfig(\n",
    "    level=logging.INFO,\n",
    "    format='%(asctime)s - %(name)s - %(levelname)s - %(message)s'\n",
    ")\n",
    "logger = logging.getLogger(__name__)"
   ]
  },
  {
   "cell_type": "code",
   "execution_count": 4,
   "id": "8fc9cfa0-50c3-4756-8fe6-b68d46b7e236",
   "metadata": {},
   "outputs": [
    {
     "name": "stderr",
     "output_type": "stream",
     "text": [
      "2025-08-11 14:25:22,176 - __main__ - INFO - FASE I.- [Exploracion Conjunto de Datos] - Atributos del Conjunto de Datos CIC-DDoS2019\n"
     ]
    }
   ],
   "source": [
    "from datetime import datetime\n",
    "\n",
    "# Lista de características seleccionadas manualmente\n",
    "selected_features = [\n",
    "    'Source IP','Destination IP','Source Port','Destination Port','Protocol', \n",
    "    'Fwd Packets/s', 'Flow Duration', 'Total Fwd Packets', 'Total Backward Packets', \n",
    "    'Total Length of Fwd Packets', 'Total Length of Bwd Packets', \n",
    "    'Fwd Packet Length Max', 'Fwd Packet Length Min', 'Fwd Packet Length Mean', \n",
    "    'Bwd Packet Length Max', 'Bwd Packet Length Min', 'Bwd Packet Length Mean', \n",
    "    'Flow Bytes/s', 'Flow Packets/s', 'FIN Flag Count', 'SYN Flag Count', \n",
    "    'RST Flag Count', 'PSH Flag Count', 'ACK Flag Count', 'URG Flag Count', \n",
    "    'CWE Flag Count', 'ECE Flag Count', 'Down/Up Ratio', 'Average Packet Size', \n",
    "    'Init_Win_bytes_forward', 'Init_Win_bytes_backward', 'act_data_pkt_fwd', \n",
    "    'min_seg_size_forward', 'Active Mean', 'Active Std', 'Active Max', \n",
    "    'Active Min', 'Idle Mean', 'Idle Std', 'Idle Max', 'Idle Min','Label'\n",
    "]\n",
    "\n",
    "reduced_set_of_features_II = [\n",
    "    'Timestamp','Source IP','Destination IP','Source Port','Destination Port',\n",
    "    'Protocol', 'Fwd Packets/s','Bwd Packets/s','Flow Bytes/s', 'Flow Packets/s',\n",
    "    'Total Fwd Packets','Total Backward Packets', 'Total Length of Fwd Packets',\n",
    "    'Total Length of Bwd Packets', 'Fwd Packet Length Std','Bwd Packet Length Std',\n",
    "    'Flow Duration', 'Flow IAT Std','Bwd IAT Mean','Bwd IAT Std','Bwd IAT Min',\n",
    "    'SYN Flag Count','FIN Flag Count','PSH Flag Count', 'Active Std','Idle Std',\n",
    "    'Fwd Header Length','Bwd Header Length','Fwd Header Length', 'Label']\n",
    "\n",
    "PCA_25_Attributes = ['Fwd IAT Std', 'Fwd IAT Mean', 'Fwd IAT Total', 'Flow IAT Min', \n",
    "                     'Flow IAT Max', 'Flow IAT Std', 'Flow IAT Mean', 'Flow Packets/s',\n",
    "                     'Flow Bytes/s', 'Bwd Packet Length Std', 'Bwd Packet Length Mean', \n",
    "                     'Bwd Packet Length Min', 'Bwd Packet Length Max', \n",
    "                     'Fwd Packet Length Std', 'Fwd Packet Length Mean', \n",
    "                     'Fwd Packet Length Min', 'Fwd Packet Length Max', \n",
    "                     'Total Length of Bwd Packets', 'Total Length of Fwd Packets',\n",
    "                     'Total Backward Packets', 'Total Fwd Packets', 'Flow Duration',\n",
    "                     'Protocol','Destination Port','Source Port', 'Label']  \n",
    "                     # Eliminadas no aportan demasiada información 'Inbound',\n",
    "\n",
    "# Lista de Atributos mas significativos para elaborar mi propio conjunto de datos\n",
    "Training_Attributes = ['Timestamp','Source IP','Destination IP','Protocol', \n",
    "                       'Destination Port', 'Source Port', 'Flow Duration',\n",
    "                       'Flow Packets/s', 'Flow Bytes/s', 'Fwd IAT Std', \n",
    "                       'Fwd IAT Mean', 'Fwd IAT Total', 'Flow IAT Min', \n",
    "                       'Flow IAT Max', 'Flow IAT Std','Flow IAT Mean', \n",
    "                       'Bwd Packet Length Std', 'Bwd Packet Length Mean', \n",
    "                       'Bwd Packet Length Min', 'Bwd Packet Length Max', \n",
    "                       'SYN Flag Count', 'FIN Flag Count','PSH Flag Count',\n",
    "                       'ACK Flag Count', 'Fwd Packet Length Std', \n",
    "                       'Fwd Packet Length Mean', 'Fwd Packet Length Min', \n",
    "                       'Fwd Packet Length Max', 'Total Length of Bwd Packets', \n",
    "                       'Total Length of Fwd Packets', 'Total Backward Packets', \n",
    "                       'Total Fwd Packets','Label'] #'Inbound'\n",
    "\n",
    "Main_Attributes = ['Timestamp','Source IP','Destination IP','Protocol', \n",
    "                   'Destination Port', 'Source Port', 'Flow Duration',\n",
    "                   'Flow Packets/s', 'Flow Bytes/s', 'Fwd IAT Std', \n",
    "                   'Fwd IAT Mean', 'Fwd IAT Total', 'Flow IAT Min', \n",
    "                   'Flow IAT Max', 'Flow IAT Std','Flow IAT Mean', \n",
    "                   'Bwd Packet Length Std', 'Bwd Packet Length Mean', \n",
    "                   'Bwd Packet Length Min', 'Bwd Packet Length Max', \n",
    "                   'SYN Flag Count', 'FIN Flag Count','PSH Flag Count',\n",
    "                   'ACK Flag Count', 'Fwd Packet Length Std', \n",
    "                   'Fwd Packet Length Mean', 'Fwd Packet Length Min', \n",
    "                   'Fwd Packet Length Max', 'Total Length of Bwd Packets', \n",
    "                   'Total Length of Fwd Packets', 'Total Backward Packets', \n",
    "                   'Total Fwd Packets','Label']\n",
    "\n",
    "# Define the global variable PCA_8_Attributes\n",
    "PCA_8_Attributes = [\n",
    "    'Fwd Packet Length Mean', 'Fwd Packet Length Min', 'Fwd Packet Length Max',\n",
    "    'Total Length of Bwd Packets', 'Total Length of Fwd Packets',\n",
    "    'Total Backward Packets', 'Total Fwd Packets', 'Flow Duration'\n",
    "]\n",
    "\n",
    "\n",
    "top_50_features = selected_features\n",
    "top_25_features = reduced_set_of_features_II\n",
    "extended_set_of_features = ['Timestamp','Source IP','Destination IP',\n",
    "                            'Source Port', 'Destination Port','Protocol']\n",
    "\n",
    "fecha_formateada = datetime.now().strftime(\"%Y-%m-%d %H:%M:%S\")\n",
    "logger.info('FASE I.- [Exploracion Conjunto de Datos] - Atributos del Conjunto de Datos CIC-DDoS2019')"
   ]
  },
  {
   "cell_type": "code",
   "execution_count": 5,
   "id": "9c014997-80cd-412a-af43-2864ac0e24f8",
   "metadata": {},
   "outputs": [],
   "source": [
    "def f_process_read_csv(file_path):\n",
    "\n",
    "    print(\"1.1- [Data Collection] Process-CSV: [{}]\\n\".format(file_path))\n",
    "\n",
    "    factor_sampling = 1 # 1-100\n",
    "    try:\n",
    "        filtered_df = pd.read_csv(file_path, low_memory=False, delimiter=',', quotechar='\"')\n",
    "        start_time = time.time()\n",
    "        filtered_df = filtered_df.rename(columns=lambda x: x.strip())\n",
    "        end_time = time.time()\n",
    "        execution_time = end_time - start_time\n",
    "        print(\"1.2.- [Data Collection] Finalización carga de Tiempo: {:.2f} secs\\n [{}]\"\n",
    "              .format(execution_time,file_path))\n",
    "\n",
    "        filtered_df = filtered_df.iloc[::factor_sampling]  # Realizar un submuestreo 1 de cada 3 muestras\n",
    "\n",
    "        print(\"1.4.- [Data Collection] Finalizada la carga del conjunto de datos: [{}]\\n\"\n",
    "              .format(file_path))\n",
    "        print('1.5.- [Data Collection] - Clasificador: ', filtered_df['Label'].unique())\n",
    "        for classificador in filtered_df['Label'].unique():\n",
    "            print('Etiqueta: ', classificador, round(filtered_df['Label']\n",
    "                                                     .value_counts()[classificador]/len(filtered_df) * 100,2), '% del dataset')\n",
    "        return filtered_df\n",
    "\n",
    "    except Exception as ex:\n",
    "        print(\"1.1.- [Data Collection] Excepcion: \", ex)\n",
    "        return None"
   ]
  },
  {
   "cell_type": "code",
   "execution_count": 6,
   "id": "efa193cb-d829-4b81-9f84-f4e147f9f5c9",
   "metadata": {},
   "outputs": [],
   "source": [
    "import pandas as pd\n",
    "import numpy as np\n",
    "import ipaddress\n",
    "from sklearn.impute import SimpleImputer\n",
    "from sklearn.preprocessing import LabelEncoder\n",
    "from typing import NoReturn\n",
    "\n",
    "def _normalize_ip_address(ip: str) -> str:\n",
    "    \"\"\"\n",
    "    Intenta normalizar una dirección IP. Si no es válida, la devuelve sin cambios.\n",
    "    \"\"\"\n",
    "    try:\n",
    "        # Se asegura de que la IP sea una cadena válida antes de procesarla.\n",
    "        if isinstance(ip, str):\n",
    "            return str(ipaddress.ip_address(ip))\n",
    "        return str(ip)\n",
    "    except ValueError:\n",
    "        return ip\n",
    "    except Exception:\n",
    "        # En caso de otro error, devuelve la IP original para no detener el proceso.\n",
    "        return ip\n",
    "\n",
    "def f_cleaning(data: pd.DataFrame) -> pd.DataFrame:\n",
    "    \"\"\"\n",
    "    Realiza un proceso de limpieza completo en un DataFrame.\n",
    "\n",
    "    El proceso incluye la eliminación de duplicados, el manejo de valores\n",
    "    infinitos y nulos, el etiquetado de la columna 'Label', la conversión\n",
    "    de tipos de datos, la normalización de direcciones IP y la eliminación\n",
    "    de columnas innecesarias.\n",
    "\n",
    "    Args:\n",
    "        data (pd.DataFrame): El DataFrame de entrada para limpiar.\n",
    "\n",
    "    Returns:\n",
    "        pd.DataFrame: El DataFrame limpio y procesado.\n",
    "\n",
    "    Raises:\n",
    "        Exception: Propaga cualquier excepción que ocurra durante la ejecución.\n",
    "    \"\"\"\n",
    "    print(\"--- 2.1 [Data Cleaning] Iniciando proceso de limpieza de datos. ---\")\n",
    "\n",
    "    try:\n",
    "        # Paso 1: Eliminar filas duplicadas\n",
    "        initial_rows = len(data)\n",
    "        data = data.drop_duplicates()\n",
    "        removed_duplicates = initial_rows - len(data)\n",
    "        print(f\"-> 2.1.1 Eliminación de filas duplicadas. Filas eliminadas: {removed_duplicates}\")\n",
    "\n",
    "        # Paso 2: Manejo de valores infinitos y nulos\n",
    "        print(\"-> 2.1.2 Manejando valores nulos, infinitos y tipos de datos.\")\n",
    "\n",
    "        # Reemplazar valores infinitos por NaN para una imputación posterior\n",
    "        data.replace([np.inf, -np.inf], np.nan, inplace=True)\n",
    "\n",
    "        # Identificar columnas numéricas y categóricas\n",
    "        numeric_columns = data.select_dtypes(include=np.number).columns\n",
    "        categorical_columns = data.select_dtypes(include='object').columns\n",
    "\n",
    "        # Imputar valores nulos en campos numéricos (estrategia: mediana)\n",
    "        num_imputer = SimpleImputer(strategy='median')\n",
    "        data[numeric_columns] = num_imputer.fit_transform(data[numeric_columns])\n",
    "\n",
    "        # Imputar valores nulos en campos categóricos (estrategia: moda)\n",
    "        cat_imputer = SimpleImputer(strategy='most_frequent')\n",
    "        data[categorical_columns] = cat_imputer.fit_transform(data[categorical_columns])\n",
    "\n",
    "\n",
    "        # Paso 3: Proceso de Labeling\n",
    "        if 'Label' in data.columns:\n",
    "            print(\"-> 2.1.3 Procesando la columna 'Label'.\")\n",
    "\n",
    "            # Unificar etiquetas: todo lo que no sea 'BENIGN' se etiqueta como 'DDoS'\n",
    "            data['Label'] = data['Label'].apply(lambda x: 'DDoS' if x != 'BENIGN' else x)\n",
    "\n",
    "            # Presentar la distribución de las etiquetas\n",
    "            print(\"-> Presentación de resultados: Distribución de Etiquetas\")\n",
    "            label_counts = data['Label'].value_counts(normalize=True) * 100\n",
    "            for classificador, porcentaje in label_counts.items():\n",
    "                print(f\"    - Etiqueta: '{classificador}', Porcentaje: {porcentaje:.2f}% del dataset\")\n",
    "        else:\n",
    "            print(\"-> Advertencia: La columna 'Label' no existe. Se omite el etiquetado.\")\n",
    "\n",
    "\n",
    "        # Paso 4: Conversión de campos y normalización de IPs\n",
    "        print(\"-> 2.1.4 Conversión de campos y normalización de IPs.\")\n",
    "\n",
    "        # Convertir 'Timestamp' a formato de fecha y hora, si existe\n",
    "        if 'Timestamp' in data.columns:\n",
    "            data['Timestamp'] = pd.to_datetime(data['Timestamp'], errors='coerce')\n",
    "        else:\n",
    "            print(\"-> Advertencia: La columna 'Timestamp' no existe. Se omite la conversión.\")\n",
    "\n",
    "        # Normalizar direcciones IP\n",
    "        ip_columns = [col for col in ['Source IP', 'Destination IP'] if col in data.columns]\n",
    "        if ip_columns:\n",
    "            for col in ip_columns:\n",
    "                data[col] = data[col].astype(str).apply(_normalize_ip_address)\n",
    "            print(\"-> IPs corruptas recuperadas y normalizadas.\")\n",
    "        else:\n",
    "            print(\"-> Advertencia: Las columnas de IP no existen. Se omite la normalización.\")\n",
    "\n",
    "\n",
    "        # Paso 5: Eliminar columnas innecesarias\n",
    "        columns_to_drop = [col for col in ['Unnamed: 0', 'Inbound'] if col in data.columns]\n",
    "        if columns_to_drop:\n",
    "            data = data.drop(columns=columns_to_drop)\n",
    "            print(f\"-> 2.1.5 Columnas eliminadas: {columns_to_drop}\")\n",
    "\n",
    "        print(\"--- 2.1 [Data Cleaning] Proceso de limpieza finalizado. ---\")\n",
    "        return data\n",
    "\n",
    "    except Exception as ex:\n",
    "        print(f\"[Data Cleaning] Excepción: {ex}\")\n",
    "        raise # Propagar la excepción\n",
    "\n",
    "import pandas as pd\n",
    "import numpy as np\n",
    "import warnings\n",
    "\n",
    "def f_preprocesado(data: pd.DataFrame) -> pd.DataFrame:\n",
    "    \"\"\"\n",
    "    Realiza un preprocesado de datos verificando la presencia de valores nulos\n",
    "    e infinitos, y muestra los tipos de datos de las columnas.\n",
    "\n",
    "    Esta función es una fase de verificación para asegurar que el DataFrame\n",
    "    esté listo para el modelado.\n",
    "\n",
    "    Args:\n",
    "        data (pd.DataFrame): El DataFrame de entrada para preprocesar.\n",
    "\n",
    "    Returns:\n",
    "        pd.DataFrame: El DataFrame procesado.\n",
    "    \"\"\"\n",
    "    print(\"3.1.- [Preprocesado] Iniciando el preprocesado de datos.\")\n",
    "\n",
    "    try:\n",
    "        # --- 3.1.1 Verificación de valores nulos ---\n",
    "        nan_values_count = data.isnull().sum().sum()\n",
    "        if nan_values_count > 0:\n",
    "            print(f\"3.1.1.- [Preprocesado] El DataFrame contiene {nan_values_count} valores nulos.\")\n",
    "            # Opcional: Podrías añadir una estrategia para manejar estos nulos, por ejemplo:\n",
    "            # data = data.fillna(0)\n",
    "        else:\n",
    "            print(\"3.1.1.- [Preprocesado] Verificado: No hay valores nulos en el DataFrame.\")\n",
    "\n",
    "        # --- 3.1.2 Verificación de valores infinitos (CORREGIDO) ---\n",
    "        # Se filtran las columnas para trabajar solo con datos numéricos.\n",
    "        numeric_data = data.select_dtypes(include=[np.number])\n",
    "\n",
    "        # Se ignora el warning de `isinf` si no hay columnas numéricas.\n",
    "        with warnings.catch_warnings():\n",
    "            warnings.simplefilter(\"ignore\", category=RuntimeWarning)\n",
    "            inf_values_count = np.isinf(numeric_data).sum().sum()\n",
    "\n",
    "        if inf_values_count > 0:\n",
    "            print(f\"3.1.2.- [Preprocesado] El DataFrame contiene {inf_values_count} valores infinitos.\")\n",
    "            # Opcional: Podrías añadir una estrategia para manejar estos infinitos, por ejemplo:\n",
    "            # data.replace([np.inf, -np.inf], np.nan, inplace=True)\n",
    "        else:\n",
    "            print(\"3.1.2.- [Preprocesado] Verificado: No hay valores infinitos en el DataFrame.\")\n",
    "\n",
    "        # --- 3.1.3 Muestra de atributos del conjunto de datos ---\n",
    "        print(\"\\n3.1.3.- [Preprocesado] ATRIBUTOS DEL CONJUNTO DE DATOS PROCESADO:\")\n",
    "        data.info() # Usar data.info() es una forma más estándar y completa de mostrar esta información.\n",
    "\n",
    "        print(\"\\n3.2.- [Preprocesado] ¡Preprocesado finalizado!\")\n",
    "        return data\n",
    "\n",
    "    except Exception as ex:\n",
    "        print(f\"\\n[Preprocesado] Excepción: {ex}\")\n",
    "        raise"
   ]
  },
  {
   "cell_type": "code",
   "execution_count": 7,
   "id": "7b72dd34-f407-435d-b630-472ce7b8c1f6",
   "metadata": {},
   "outputs": [],
   "source": [
    "import pandas as pd\n",
    "import matplotlib.pyplot as plt\n",
    "import seaborn as sns\n",
    "\n",
    "def f_show_histograms(_df: pd.DataFrame):\n",
    "    \"\"\"\n",
    "    Genera y muestra histogramas para los 25 atributos de PCA_25_Attributes.\n",
    "    \n",
    "    Args:\n",
    "        _df (pd.DataFrame): El DataFrame que contiene los datos a visualizar.\n",
    "    \"\"\"\n",
    "    # Configuración de estilo\n",
    "    try:\n",
    "        plt.style.use('seaborn-v0_8')\n",
    "    except:\n",
    "        plt.style.use('ggplot')\n",
    "\n",
    "    sns.set_theme(style=\"whitegrid\")\n",
    "    sns.set_palette(\"husl\")\n",
    "    plt.rcParams['figure.figsize'] = [25, 25]  # Ajuste de tamaño para una cuadrícula 5x5\n",
    "    plt.rcParams['figure.dpi'] = 100\n",
    "\n",
    "    # Atributos de PCA_25_Attributes (excluyendo los que no son aptos para histogramas)\n",
    "    numeric_pca_attributes = [\n",
    "        'Fwd IAT Std', 'Fwd IAT Mean', 'Fwd IAT Total', 'Flow IAT Min', 'Flow IAT Max',\n",
    "        'Flow IAT Std', 'Flow IAT Mean', 'Flow Packets/s', 'Flow Bytes/s', \n",
    "        'Bwd Packet Length Std', 'Bwd Packet Length Mean', 'Bwd Packet Length Min', \n",
    "        'Bwd Packet Length Max', 'Fwd Packet Length Std', 'Fwd Packet Length Mean', \n",
    "        'Fwd Packet Length Min', 'Fwd Packet Length Max', 'Total Length of Bwd Packets',\n",
    "        'Total Length of Fwd Packets', 'Total Backward Packets', 'Total Fwd Packets',\n",
    "        'Flow Duration'\n",
    "    ]\n",
    "\n",
    "    # Crear la cuadrícula de histogramas (5 filas y 5 columnas para los 25 atributos)\n",
    "    fig, axes = plt.subplots(5, 5, figsize=(25, 25))\n",
    "    axes = axes.ravel()  # Aplanar los ejes para iterar fácilmente\n",
    "\n",
    "    # Bucle para generar cada histograma\n",
    "    for i, var in enumerate(numeric_pca_attributes):\n",
    "        if var in _df.columns:\n",
    "            # Eliminar infinitos y nulos para evitar errores\n",
    "            data_cleaned = _df[var].replace([float('inf'), -float('inf')], \n",
    "                                            pd.NA).dropna()\n",
    "\n",
    "            sns.histplot(data=data_cleaned, kde=True, ax=axes[i], bins=50)\n",
    "            axes[i].set_title(f'Distribución de {var}', fontsize=12)\n",
    "            axes[i].set_xlabel(var, fontsize=10)\n",
    "            axes[i].set_ylabel('Frecuencia', fontsize=10)\n",
    "            \n",
    "            # Añadir línea de media si el valor es válido\n",
    "            mean_val = data_cleaned.mean()\n",
    "            if pd.notna(mean_val):\n",
    "                axes[i].axvline(mean_val, color='red', linestyle='--', \n",
    "                                label=f'Media: {mean_val:.2f}')\n",
    "                axes[i].legend()\n",
    "\n",
    "    # Ocultar subgráficos no utilizados\n",
    "    for i in range(len(numeric_pca_attributes), len(axes)):\n",
    "        fig.delaxes(axes[i])\n",
    "\n",
    "    plt.tight_layout()\n",
    "    plt.suptitle('Histogramas de los 25 Atributos de PCA', y=1.02, fontsize=20)\n",
    "    plt.show()\n",
    "\n",
    "\n",
    "#Testing\n",
    "#_show_histograms(_df)"
   ]
  },
  {
   "cell_type": "markdown",
   "id": "e77ac9f2-12f7-41b7-a46d-f2f33e196e85",
   "metadata": {},
   "source": [
    "# Fases de un ataque: Validación de Hipotesis iniciales\n",
    "## Fase de Exploración:\n",
    "\n",
    "### Hipótesis 1: Aumento repentino en Packets/Flow y Bytes/Flow\n"
   ]
  },
  {
   "cell_type": "code",
   "execution_count": 8,
   "id": "e159b74c-a9d7-4ee6-bbb5-5d40ffc46b87",
   "metadata": {},
   "outputs": [
    {
     "name": "stdout",
     "output_type": "stream",
     "text": [
      "\n",
      "--- [Análisis de Flujos] Calculando métricas de flujos de tráfico ---\n",
      "[Análisis de Flujos] Métricas de flujos calculadas.\n",
      "\n",
      "DataFrame de flujos analizado:\n",
      "      Source IP Destination IP  Flow Packets/s_mean  Flow Packets/s_std  \\\n",
      "0  192.168.1.2     10.10.10.1                250.0                 NaN   \n",
      "1  192.168.1.2     10.10.10.2                200.0                 NaN   \n",
      "2  192.168.1.3     10.10.10.2                180.0                 NaN   \n",
      "3  192.168.1.3     10.10.10.1                150.0                 NaN   \n",
      "4  192.168.1.1     10.10.10.2                120.0                 NaN   \n",
      "5  192.168.1.1     10.10.10.1                100.0                 NaN   \n",
      "\n",
      "   Flow Bytes/s_mean  Flow Bytes/s_std  Flow Duration_mean  Flow Duration_std  \n",
      "0            27000.0               NaN                12.0                NaN  \n",
      "1            25000.0               NaN                10.0                NaN  \n",
      "2            20000.0               NaN                 9.0                NaN  \n",
      "3            18000.0               NaN                 8.0                NaN  \n",
      "4            11000.0               NaN                 6.0                NaN  \n",
      "5            10000.0               NaN                 5.0                NaN  \n",
      "\n",
      "--- [Análisis de Flujos] Imprimiendo los 5 flujos más importantes ---\n",
      "Source IP: 192.168.1.2 -> Destination IP: 10.10.10.1\n",
      "  - Paquetes/s (mean): 250.00, Bytes/s (mean): 27000.00\n",
      "  - Importancia del Flujo: 27250.00\n",
      "Source IP: 192.168.1.2 -> Destination IP: 10.10.10.2\n",
      "  - Paquetes/s (mean): 200.00, Bytes/s (mean): 25000.00\n",
      "  - Importancia del Flujo: 25200.00\n",
      "Source IP: 192.168.1.3 -> Destination IP: 10.10.10.2\n",
      "  - Paquetes/s (mean): 180.00, Bytes/s (mean): 20000.00\n",
      "  - Importancia del Flujo: 20180.00\n",
      "Source IP: 192.168.1.3 -> Destination IP: 10.10.10.1\n",
      "  - Paquetes/s (mean): 150.00, Bytes/s (mean): 18000.00\n",
      "  - Importancia del Flujo: 18150.00\n",
      "Source IP: 192.168.1.1 -> Destination IP: 10.10.10.2\n",
      "  - Paquetes/s (mean): 120.00, Bytes/s (mean): 11000.00\n",
      "  - Importancia del Flujo: 11120.00\n",
      "\n",
      "--- [Visualización] Creando un Diagrama de Sankey para flujos de tráfico ---\n",
      "[Visualización] Diagrama de Sankey creado con éxito.\n"
     ]
    },
    {
     "data": {
      "application/vnd.plotly.v1+json": {
       "config": {
        "plotlyServerURL": "https://plot.ly"
       },
       "data": [
        {
         "link": {
          "source": [
           0,
           0,
           1,
           1,
           2,
           2
          ],
          "target": [
           3,
           4,
           4,
           3,
           4,
           3
          ],
          "value": {
           "bdata": "AAAAAABe2kAAAAAAAGrYQAAAAAAAiNNAAAAAAACU0UAAAAAAAHzFQAAAAAAAiMNA",
           "dtype": "f8"
          }
         },
         "node": {
          "color": "blue",
          "label": [
           "192.168.1.2",
           "192.168.1.3",
           "192.168.1.1",
           "10.10.10.1",
           "10.10.10.2"
          ],
          "line": {
           "color": "black",
           "width": 0.5
          },
          "pad": 15,
          "thickness": 20
         },
         "type": "sankey"
        }
       ],
       "layout": {
        "font": {
         "size": 10
        },
        "template": {
         "data": {
          "bar": [
           {
            "error_x": {
             "color": "#2a3f5f"
            },
            "error_y": {
             "color": "#2a3f5f"
            },
            "marker": {
             "line": {
              "color": "#E5ECF6",
              "width": 0.5
             },
             "pattern": {
              "fillmode": "overlay",
              "size": 10,
              "solidity": 0.2
             }
            },
            "type": "bar"
           }
          ],
          "barpolar": [
           {
            "marker": {
             "line": {
              "color": "#E5ECF6",
              "width": 0.5
             },
             "pattern": {
              "fillmode": "overlay",
              "size": 10,
              "solidity": 0.2
             }
            },
            "type": "barpolar"
           }
          ],
          "carpet": [
           {
            "aaxis": {
             "endlinecolor": "#2a3f5f",
             "gridcolor": "white",
             "linecolor": "white",
             "minorgridcolor": "white",
             "startlinecolor": "#2a3f5f"
            },
            "baxis": {
             "endlinecolor": "#2a3f5f",
             "gridcolor": "white",
             "linecolor": "white",
             "minorgridcolor": "white",
             "startlinecolor": "#2a3f5f"
            },
            "type": "carpet"
           }
          ],
          "choropleth": [
           {
            "colorbar": {
             "outlinewidth": 0,
             "ticks": ""
            },
            "type": "choropleth"
           }
          ],
          "contour": [
           {
            "colorbar": {
             "outlinewidth": 0,
             "ticks": ""
            },
            "colorscale": [
             [
              0,
              "#0d0887"
             ],
             [
              0.1111111111111111,
              "#46039f"
             ],
             [
              0.2222222222222222,
              "#7201a8"
             ],
             [
              0.3333333333333333,
              "#9c179e"
             ],
             [
              0.4444444444444444,
              "#bd3786"
             ],
             [
              0.5555555555555556,
              "#d8576b"
             ],
             [
              0.6666666666666666,
              "#ed7953"
             ],
             [
              0.7777777777777778,
              "#fb9f3a"
             ],
             [
              0.8888888888888888,
              "#fdca26"
             ],
             [
              1,
              "#f0f921"
             ]
            ],
            "type": "contour"
           }
          ],
          "contourcarpet": [
           {
            "colorbar": {
             "outlinewidth": 0,
             "ticks": ""
            },
            "type": "contourcarpet"
           }
          ],
          "heatmap": [
           {
            "colorbar": {
             "outlinewidth": 0,
             "ticks": ""
            },
            "colorscale": [
             [
              0,
              "#0d0887"
             ],
             [
              0.1111111111111111,
              "#46039f"
             ],
             [
              0.2222222222222222,
              "#7201a8"
             ],
             [
              0.3333333333333333,
              "#9c179e"
             ],
             [
              0.4444444444444444,
              "#bd3786"
             ],
             [
              0.5555555555555556,
              "#d8576b"
             ],
             [
              0.6666666666666666,
              "#ed7953"
             ],
             [
              0.7777777777777778,
              "#fb9f3a"
             ],
             [
              0.8888888888888888,
              "#fdca26"
             ],
             [
              1,
              "#f0f921"
             ]
            ],
            "type": "heatmap"
           }
          ],
          "histogram": [
           {
            "marker": {
             "pattern": {
              "fillmode": "overlay",
              "size": 10,
              "solidity": 0.2
             }
            },
            "type": "histogram"
           }
          ],
          "histogram2d": [
           {
            "colorbar": {
             "outlinewidth": 0,
             "ticks": ""
            },
            "colorscale": [
             [
              0,
              "#0d0887"
             ],
             [
              0.1111111111111111,
              "#46039f"
             ],
             [
              0.2222222222222222,
              "#7201a8"
             ],
             [
              0.3333333333333333,
              "#9c179e"
             ],
             [
              0.4444444444444444,
              "#bd3786"
             ],
             [
              0.5555555555555556,
              "#d8576b"
             ],
             [
              0.6666666666666666,
              "#ed7953"
             ],
             [
              0.7777777777777778,
              "#fb9f3a"
             ],
             [
              0.8888888888888888,
              "#fdca26"
             ],
             [
              1,
              "#f0f921"
             ]
            ],
            "type": "histogram2d"
           }
          ],
          "histogram2dcontour": [
           {
            "colorbar": {
             "outlinewidth": 0,
             "ticks": ""
            },
            "colorscale": [
             [
              0,
              "#0d0887"
             ],
             [
              0.1111111111111111,
              "#46039f"
             ],
             [
              0.2222222222222222,
              "#7201a8"
             ],
             [
              0.3333333333333333,
              "#9c179e"
             ],
             [
              0.4444444444444444,
              "#bd3786"
             ],
             [
              0.5555555555555556,
              "#d8576b"
             ],
             [
              0.6666666666666666,
              "#ed7953"
             ],
             [
              0.7777777777777778,
              "#fb9f3a"
             ],
             [
              0.8888888888888888,
              "#fdca26"
             ],
             [
              1,
              "#f0f921"
             ]
            ],
            "type": "histogram2dcontour"
           }
          ],
          "mesh3d": [
           {
            "colorbar": {
             "outlinewidth": 0,
             "ticks": ""
            },
            "type": "mesh3d"
           }
          ],
          "parcoords": [
           {
            "line": {
             "colorbar": {
              "outlinewidth": 0,
              "ticks": ""
             }
            },
            "type": "parcoords"
           }
          ],
          "pie": [
           {
            "automargin": true,
            "type": "pie"
           }
          ],
          "scatter": [
           {
            "fillpattern": {
             "fillmode": "overlay",
             "size": 10,
             "solidity": 0.2
            },
            "type": "scatter"
           }
          ],
          "scatter3d": [
           {
            "line": {
             "colorbar": {
              "outlinewidth": 0,
              "ticks": ""
             }
            },
            "marker": {
             "colorbar": {
              "outlinewidth": 0,
              "ticks": ""
             }
            },
            "type": "scatter3d"
           }
          ],
          "scattercarpet": [
           {
            "marker": {
             "colorbar": {
              "outlinewidth": 0,
              "ticks": ""
             }
            },
            "type": "scattercarpet"
           }
          ],
          "scattergeo": [
           {
            "marker": {
             "colorbar": {
              "outlinewidth": 0,
              "ticks": ""
             }
            },
            "type": "scattergeo"
           }
          ],
          "scattergl": [
           {
            "marker": {
             "colorbar": {
              "outlinewidth": 0,
              "ticks": ""
             }
            },
            "type": "scattergl"
           }
          ],
          "scattermap": [
           {
            "marker": {
             "colorbar": {
              "outlinewidth": 0,
              "ticks": ""
             }
            },
            "type": "scattermap"
           }
          ],
          "scattermapbox": [
           {
            "marker": {
             "colorbar": {
              "outlinewidth": 0,
              "ticks": ""
             }
            },
            "type": "scattermapbox"
           }
          ],
          "scatterpolar": [
           {
            "marker": {
             "colorbar": {
              "outlinewidth": 0,
              "ticks": ""
             }
            },
            "type": "scatterpolar"
           }
          ],
          "scatterpolargl": [
           {
            "marker": {
             "colorbar": {
              "outlinewidth": 0,
              "ticks": ""
             }
            },
            "type": "scatterpolargl"
           }
          ],
          "scatterternary": [
           {
            "marker": {
             "colorbar": {
              "outlinewidth": 0,
              "ticks": ""
             }
            },
            "type": "scatterternary"
           }
          ],
          "surface": [
           {
            "colorbar": {
             "outlinewidth": 0,
             "ticks": ""
            },
            "colorscale": [
             [
              0,
              "#0d0887"
             ],
             [
              0.1111111111111111,
              "#46039f"
             ],
             [
              0.2222222222222222,
              "#7201a8"
             ],
             [
              0.3333333333333333,
              "#9c179e"
             ],
             [
              0.4444444444444444,
              "#bd3786"
             ],
             [
              0.5555555555555556,
              "#d8576b"
             ],
             [
              0.6666666666666666,
              "#ed7953"
             ],
             [
              0.7777777777777778,
              "#fb9f3a"
             ],
             [
              0.8888888888888888,
              "#fdca26"
             ],
             [
              1,
              "#f0f921"
             ]
            ],
            "type": "surface"
           }
          ],
          "table": [
           {
            "cells": {
             "fill": {
              "color": "#EBF0F8"
             },
             "line": {
              "color": "white"
             }
            },
            "header": {
             "fill": {
              "color": "#C8D4E3"
             },
             "line": {
              "color": "white"
             }
            },
            "type": "table"
           }
          ]
         },
         "layout": {
          "annotationdefaults": {
           "arrowcolor": "#2a3f5f",
           "arrowhead": 0,
           "arrowwidth": 1
          },
          "autotypenumbers": "strict",
          "coloraxis": {
           "colorbar": {
            "outlinewidth": 0,
            "ticks": ""
           }
          },
          "colorscale": {
           "diverging": [
            [
             0,
             "#8e0152"
            ],
            [
             0.1,
             "#c51b7d"
            ],
            [
             0.2,
             "#de77ae"
            ],
            [
             0.3,
             "#f1b6da"
            ],
            [
             0.4,
             "#fde0ef"
            ],
            [
             0.5,
             "#f7f7f7"
            ],
            [
             0.6,
             "#e6f5d0"
            ],
            [
             0.7,
             "#b8e186"
            ],
            [
             0.8,
             "#7fbc41"
            ],
            [
             0.9,
             "#4d9221"
            ],
            [
             1,
             "#276419"
            ]
           ],
           "sequential": [
            [
             0,
             "#0d0887"
            ],
            [
             0.1111111111111111,
             "#46039f"
            ],
            [
             0.2222222222222222,
             "#7201a8"
            ],
            [
             0.3333333333333333,
             "#9c179e"
            ],
            [
             0.4444444444444444,
             "#bd3786"
            ],
            [
             0.5555555555555556,
             "#d8576b"
            ],
            [
             0.6666666666666666,
             "#ed7953"
            ],
            [
             0.7777777777777778,
             "#fb9f3a"
            ],
            [
             0.8888888888888888,
             "#fdca26"
            ],
            [
             1,
             "#f0f921"
            ]
           ],
           "sequentialminus": [
            [
             0,
             "#0d0887"
            ],
            [
             0.1111111111111111,
             "#46039f"
            ],
            [
             0.2222222222222222,
             "#7201a8"
            ],
            [
             0.3333333333333333,
             "#9c179e"
            ],
            [
             0.4444444444444444,
             "#bd3786"
            ],
            [
             0.5555555555555556,
             "#d8576b"
            ],
            [
             0.6666666666666666,
             "#ed7953"
            ],
            [
             0.7777777777777778,
             "#fb9f3a"
            ],
            [
             0.8888888888888888,
             "#fdca26"
            ],
            [
             1,
             "#f0f921"
            ]
           ]
          },
          "colorway": [
           "#636efa",
           "#EF553B",
           "#00cc96",
           "#ab63fa",
           "#FFA15A",
           "#19d3f3",
           "#FF6692",
           "#B6E880",
           "#FF97FF",
           "#FECB52"
          ],
          "font": {
           "color": "#2a3f5f"
          },
          "geo": {
           "bgcolor": "white",
           "lakecolor": "white",
           "landcolor": "#E5ECF6",
           "showlakes": true,
           "showland": true,
           "subunitcolor": "white"
          },
          "hoverlabel": {
           "align": "left"
          },
          "hovermode": "closest",
          "mapbox": {
           "style": "light"
          },
          "paper_bgcolor": "white",
          "plot_bgcolor": "#E5ECF6",
          "polar": {
           "angularaxis": {
            "gridcolor": "white",
            "linecolor": "white",
            "ticks": ""
           },
           "bgcolor": "#E5ECF6",
           "radialaxis": {
            "gridcolor": "white",
            "linecolor": "white",
            "ticks": ""
           }
          },
          "scene": {
           "xaxis": {
            "backgroundcolor": "#E5ECF6",
            "gridcolor": "white",
            "gridwidth": 2,
            "linecolor": "white",
            "showbackground": true,
            "ticks": "",
            "zerolinecolor": "white"
           },
           "yaxis": {
            "backgroundcolor": "#E5ECF6",
            "gridcolor": "white",
            "gridwidth": 2,
            "linecolor": "white",
            "showbackground": true,
            "ticks": "",
            "zerolinecolor": "white"
           },
           "zaxis": {
            "backgroundcolor": "#E5ECF6",
            "gridcolor": "white",
            "gridwidth": 2,
            "linecolor": "white",
            "showbackground": true,
            "ticks": "",
            "zerolinecolor": "white"
           }
          },
          "shapedefaults": {
           "line": {
            "color": "#2a3f5f"
           }
          },
          "ternary": {
           "aaxis": {
            "gridcolor": "white",
            "linecolor": "white",
            "ticks": ""
           },
           "baxis": {
            "gridcolor": "white",
            "linecolor": "white",
            "ticks": ""
           },
           "bgcolor": "#E5ECF6",
           "caxis": {
            "gridcolor": "white",
            "linecolor": "white",
            "ticks": ""
           }
          },
          "title": {
           "x": 0.05
          },
          "xaxis": {
           "automargin": true,
           "gridcolor": "white",
           "linecolor": "white",
           "ticks": "",
           "title": {
            "standoff": 15
           },
           "zerolinecolor": "white",
           "zerolinewidth": 2
          },
          "yaxis": {
           "automargin": true,
           "gridcolor": "white",
           "linecolor": "white",
           "ticks": "",
           "title": {
            "standoff": 15
           },
           "zerolinecolor": "white",
           "zerolinewidth": 2
          }
         }
        },
        "title": {
         "text": "Flujos de Tráfico de Red (Top 10 por Flow Bytes/s_mean)"
        }
       }
      }
     },
     "metadata": {},
     "output_type": "display_data"
    }
   ],
   "source": [
    "import pandas as pd\n",
    "import plotly.graph_objects as go\n",
    "from sklearn.preprocessing import LabelEncoder\n",
    "from typing import Optional, List, Dict, Any\n",
    "\n",
    "# ==============================================================================\n",
    "# Bloque 1: Funciones de Análisis de Datos y Visualización\n",
    "# ==============================================================================\n",
    "\n",
    "def analyze_traffic_flows(df: pd.DataFrame) -> pd.DataFrame:\n",
    "    \"\"\"\n",
    "    Analiza un DataFrame de tráfico de red para calcular métricas de flujos.\n",
    "    \n",
    "    Args:\n",
    "        df (pd.DataFrame): DataFrame de entrada con los datos de tráfico.\n",
    "\n",
    "    Returns:\n",
    "        pd.DataFrame: Un DataFrame con las métricas calculadas.\n",
    "\n",
    "    Raises:\n",
    "        ValueError: Si las columnas requeridas no están en el DataFrame.\n",
    "    \"\"\"\n",
    "    required_cols = ['Source IP', 'Destination IP', 'Flow Packets/s', 'Flow Bytes/s', 'Flow Duration']\n",
    "    if not all(col in df.columns for col in required_cols):\n",
    "        raise ValueError(f\"Error: El DataFrame debe contener las columnas: {required_cols}\")\n",
    "\n",
    "    print(\"\\n--- [Análisis de Flujos] Calculando métricas de flujos de tráfico ---\")\n",
    "\n",
    "    # Definir las agregaciones de forma más explícita\n",
    "    agg_dict = {\n",
    "        'Flow Packets/s': ['mean', 'std'],\n",
    "        'Flow Bytes/s': ['mean', 'std'],\n",
    "        'Flow Duration': ['mean', 'std']\n",
    "    }\n",
    "    \n",
    "    grouped_df = df.groupby(['Source IP', 'Destination IP']).agg(agg_dict).reset_index()\n",
    "\n",
    "    # Flatten the MultiIndex columns in a more robust way\n",
    "    grouped_df.columns = ['_'.join(col).strip() if col[1] else col[0] for col in grouped_df.columns.values]\n",
    "    \n",
    "    # Crear y ordenar el DataFrame final\n",
    "    df_flows = grouped_df.rename(columns={\n",
    "        'Source IP_': 'Source IP',\n",
    "        'Destination IP_': 'Destination IP'\n",
    "    })\n",
    "    \n",
    "    df_flows = df_flows.sort_values(\n",
    "        by=['Flow Packets/s_mean', 'Flow Bytes/s_mean', 'Flow Duration_mean'], \n",
    "        ascending=False\n",
    "    ).reset_index(drop=True)\n",
    "\n",
    "    print(\"[Análisis de Flujos] Métricas de flujos calculadas.\")\n",
    "    return df_flows\n",
    "\n",
    "def print_top_network_flows(df: pd.DataFrame, max_flows: int = 10) -> None:\n",
    "    \"\"\"\n",
    "    Identifica y imprime los flujos de red más importantes basados en la importancia del flujo.\n",
    "    \n",
    "    Args:\n",
    "        df (pd.DataFrame): DataFrame de entrada con las métricas de flujos.\n",
    "        max_flows (int): El número de flujos más importantes a imprimir.\n",
    "        \n",
    "    Raises:\n",
    "        ValueError: Si las columnas requeridas no están en el DataFrame.\n",
    "    \"\"\"\n",
    "    required_cols = ['Source IP', 'Destination IP', 'Flow Packets/s_mean', 'Flow Bytes/s_mean']\n",
    "    if not all(col in df.columns for col in required_cols):\n",
    "        raise ValueError(f\"Error: El DataFrame debe contener las columnas: {required_cols}\")\n",
    "\n",
    "    print(f\"\\n--- [Análisis de Flujos] Imprimiendo los {max_flows} flujos más importantes ---\")\n",
    "\n",
    "    # Calcular la importancia del flujo y ordenar\n",
    "    df_copy = df.copy()\n",
    "    df_copy['Flow Importance'] = df_copy['Flow Packets/s_mean'] + df_copy['Flow Bytes/s_mean']\n",
    "    top_flows = df_copy.sort_values(by='Flow Importance', ascending=False).head(max_flows)\n",
    "\n",
    "    # Imprimir los flujos (iterrows es aceptable para esta tarea de impresión)\n",
    "    for _, row in top_flows.iterrows():\n",
    "        print(\n",
    "            f\"Source IP: {row['Source IP']} -> Destination IP: {row['Destination IP']}\\n\"\n",
    "            f\"  - Paquetes/s (mean): {row['Flow Packets/s_mean']:.2f}, Bytes/s (mean): {row['Flow Bytes/s_mean']:.2f}\\n\"\n",
    "            f\"  - Importancia del Flujo: {row['Flow Importance']:.2f}\"\n",
    "        )\n",
    "        \n",
    "def plot_sankey_diagram(df: pd.DataFrame,\n",
    "                        flow_metric: str = 'Flow Packets/s_mean',\n",
    "                        top_flows: int = 20) -> Optional[go.Figure]:\n",
    "    \"\"\"\n",
    "    Genera un diagrama de Sankey interactivo para visualizar los flujos de tráfico.\n",
    "    \n",
    "    Args:\n",
    "        df (pd.DataFrame): El DataFrame de flujos, con 'Source IP', 'Destination IP' y la métrica de flujo.\n",
    "        flow_metric (str): El nombre de la columna que representa la magnitud del flujo.\n",
    "        top_flows (int): El número de flujos más importantes a incluir en el diagrama.\n",
    "\n",
    "    Returns:\n",
    "        Optional[go.Figure]: Un objeto de figura de Plotly o None si ocurre una excepción.\n",
    "        \n",
    "    Raises:\n",
    "        ValueError: Si el DataFrame no contiene las columnas necesarias.\n",
    "    \"\"\"\n",
    "    required_cols = ['Source IP', 'Destination IP', flow_metric]\n",
    "    if not all(col in df.columns for col in required_cols):\n",
    "        raise ValueError(f\"Error: El DataFrame debe contener las columnas: {required_cols}\")\n",
    "\n",
    "    print(\"\\n--- [Visualización] Creando un Diagrama de Sankey para flujos de tráfico ---\")\n",
    "    try:\n",
    "        # Seleccionar los flujos más importantes\n",
    "        df_sankey = df.sort_values(by=flow_metric, ascending=False).head(top_flows).reset_index(drop=True)\n",
    "        \n",
    "        if df_sankey.empty:\n",
    "            print(\"No se encontraron flujos para visualizar.\")\n",
    "            return None\n",
    "\n",
    "        # Preparar los datos para el diagrama de Sankey\n",
    "        all_nodes = pd.concat([df_sankey['Source IP'], df_sankey['Destination IP']]).unique()\n",
    "        le = LabelEncoder()\n",
    "        labels = le.fit_transform(all_nodes)\n",
    "        node_to_index = {node: i for i, node in enumerate(all_nodes)}\n",
    "        \n",
    "        sources = [node_to_index[ip] for ip in df_sankey['Source IP']]\n",
    "        targets = [node_to_index[ip] for ip in df_sankey['Destination IP']]\n",
    "        values = df_sankey[flow_metric]\n",
    "\n",
    "        # Crear el diagrama de Sankey\n",
    "        fig = go.Figure(data=[go.Sankey(\n",
    "            node=dict(\n",
    "                pad=15,\n",
    "                thickness=20,\n",
    "                line=dict(color=\"black\", width=0.5),\n",
    "                label=all_nodes,\n",
    "                color=\"blue\"\n",
    "            ),\n",
    "            link=dict(\n",
    "                source=sources,\n",
    "                target=targets,\n",
    "                value=values\n",
    "            )\n",
    "        )])\n",
    "\n",
    "        fig.update_layout(\n",
    "            title_text=f\"Flujos de Tráfico de Red (Top {top_flows} por {flow_metric})\", \n",
    "            font=dict(size=10)\n",
    "        )\n",
    "        \n",
    "        print(\"[Visualización] Diagrama de Sankey creado con éxito.\")\n",
    "        return fig\n",
    "\n",
    "    except Exception as e:\n",
    "        print(f\"[EXCEPTION] Ocurrió un error al crear el diagrama de Sankey: {e}\")\n",
    "        return None\n",
    "\n",
    "# ==============================================================================\n",
    "# Bloque 2: Ejemplo de Uso\n",
    "# ==============================================================================\n",
    "\n",
    "if __name__ == \"__main__\":\n",
    "    # Datos de ejemplo con un campo de duración para la segunda función\n",
    "    df_raw = pd.DataFrame({\n",
    "        'Source IP': ['192.168.1.1', '192.168.1.2', '192.168.1.3', '192.168.1.1', '192.168.1.2', '192.168.1.3'],\n",
    "        'Destination IP': ['10.10.10.1', '10.10.10.2', '10.10.10.1', '10.10.10.2', '10.10.10.1', '10.10.10.2'],\n",
    "        'Flow Packets/s': [100, 200, 150, 120, 250, 180],\n",
    "        'Flow Bytes/s': [10000, 25000, 18000, 11000, 27000, 20000],\n",
    "        'Flow Duration': [5, 10, 8, 6, 12, 9]\n",
    "    })\n",
    "\n",
    "    # Analizar y calcular métricas de flujos\n",
    "    try:\n",
    "        df_analyzed = analyze_traffic_flows(df_raw)\n",
    "        print(\"\\nDataFrame de flujos analizado:\\n\", df_analyzed)\n",
    "\n",
    "        # Imprimir los flujos más importantes\n",
    "        print_top_network_flows(df_analyzed, max_flows=5)\n",
    "\n",
    "        # Generar y mostrar el diagrama de Sankey\n",
    "        sankey_figure = plot_sankey_diagram(df_analyzed, flow_metric='Flow Bytes/s_mean', top_flows=10)\n",
    "        if sankey_figure:\n",
    "            sankey_figure.show()\n",
    "        else:\n",
    "            print(\"No se pudo generar el diagrama de Sankey.\")\n",
    "            \n",
    "    except ValueError as e:\n",
    "        print(f\"Error en la ejecución: {e}\")"
   ]
  },
  {
   "cell_type": "code",
   "execution_count": 9,
   "id": "3c742ad6-c934-4b81-b306-8b4637fcfc66",
   "metadata": {},
   "outputs": [
    {
     "name": "stdout",
     "output_type": "stream",
     "text": [
      "\n",
      "--- [Visualización] Creando diagrama de Sankey para los flujos más importantes ---\n",
      "[Visualización] Diagrama de Sankey creado con éxito.\n"
     ]
    },
    {
     "data": {
      "application/vnd.plotly.v1+json": {
       "config": {
        "plotlyServerURL": "https://plot.ly"
       },
       "data": [
        {
         "link": {
          "color": [
           "rgba(31, 119, 180, 0.8)",
           "rgba(255, 127, 14, 0.8)",
           "rgba(44, 160, 44, 0.8)",
           "rgba(214, 39, 40, 0.8)",
           "rgba(148, 103, 189, 0.8)",
           "rgba(140, 86, 75, 0.8)"
          ],
          "source": {
           "bdata": "AwYEBQQD",
           "dtype": "i1"
          },
          "target": {
           "bdata": "AQIAAAEA",
           "dtype": "i1"
          },
          "value": {
           "bdata": "JgK4AXcBSgHcAG4A",
           "dtype": "i2"
          }
         },
         "node": {
          "color": "blue",
          "label": [
           "192.168.1.1",
           "192.168.1.4",
           "192.168.1.2",
           "192.168.1.3",
           "10.10.10.2",
           "10.10.10.3",
           "10.10.10.1"
          ],
          "line": {
           "color": "black",
           "width": 0.5
          },
          "pad": 15,
          "thickness": 20
         },
         "type": "sankey"
        }
       ],
       "layout": {
        "height": 800,
        "template": {
         "data": {
          "bar": [
           {
            "error_x": {
             "color": "#2a3f5f"
            },
            "error_y": {
             "color": "#2a3f5f"
            },
            "marker": {
             "line": {
              "color": "#E5ECF6",
              "width": 0.5
             },
             "pattern": {
              "fillmode": "overlay",
              "size": 10,
              "solidity": 0.2
             }
            },
            "type": "bar"
           }
          ],
          "barpolar": [
           {
            "marker": {
             "line": {
              "color": "#E5ECF6",
              "width": 0.5
             },
             "pattern": {
              "fillmode": "overlay",
              "size": 10,
              "solidity": 0.2
             }
            },
            "type": "barpolar"
           }
          ],
          "carpet": [
           {
            "aaxis": {
             "endlinecolor": "#2a3f5f",
             "gridcolor": "white",
             "linecolor": "white",
             "minorgridcolor": "white",
             "startlinecolor": "#2a3f5f"
            },
            "baxis": {
             "endlinecolor": "#2a3f5f",
             "gridcolor": "white",
             "linecolor": "white",
             "minorgridcolor": "white",
             "startlinecolor": "#2a3f5f"
            },
            "type": "carpet"
           }
          ],
          "choropleth": [
           {
            "colorbar": {
             "outlinewidth": 0,
             "ticks": ""
            },
            "type": "choropleth"
           }
          ],
          "contour": [
           {
            "colorbar": {
             "outlinewidth": 0,
             "ticks": ""
            },
            "colorscale": [
             [
              0,
              "#0d0887"
             ],
             [
              0.1111111111111111,
              "#46039f"
             ],
             [
              0.2222222222222222,
              "#7201a8"
             ],
             [
              0.3333333333333333,
              "#9c179e"
             ],
             [
              0.4444444444444444,
              "#bd3786"
             ],
             [
              0.5555555555555556,
              "#d8576b"
             ],
             [
              0.6666666666666666,
              "#ed7953"
             ],
             [
              0.7777777777777778,
              "#fb9f3a"
             ],
             [
              0.8888888888888888,
              "#fdca26"
             ],
             [
              1,
              "#f0f921"
             ]
            ],
            "type": "contour"
           }
          ],
          "contourcarpet": [
           {
            "colorbar": {
             "outlinewidth": 0,
             "ticks": ""
            },
            "type": "contourcarpet"
           }
          ],
          "heatmap": [
           {
            "colorbar": {
             "outlinewidth": 0,
             "ticks": ""
            },
            "colorscale": [
             [
              0,
              "#0d0887"
             ],
             [
              0.1111111111111111,
              "#46039f"
             ],
             [
              0.2222222222222222,
              "#7201a8"
             ],
             [
              0.3333333333333333,
              "#9c179e"
             ],
             [
              0.4444444444444444,
              "#bd3786"
             ],
             [
              0.5555555555555556,
              "#d8576b"
             ],
             [
              0.6666666666666666,
              "#ed7953"
             ],
             [
              0.7777777777777778,
              "#fb9f3a"
             ],
             [
              0.8888888888888888,
              "#fdca26"
             ],
             [
              1,
              "#f0f921"
             ]
            ],
            "type": "heatmap"
           }
          ],
          "histogram": [
           {
            "marker": {
             "pattern": {
              "fillmode": "overlay",
              "size": 10,
              "solidity": 0.2
             }
            },
            "type": "histogram"
           }
          ],
          "histogram2d": [
           {
            "colorbar": {
             "outlinewidth": 0,
             "ticks": ""
            },
            "colorscale": [
             [
              0,
              "#0d0887"
             ],
             [
              0.1111111111111111,
              "#46039f"
             ],
             [
              0.2222222222222222,
              "#7201a8"
             ],
             [
              0.3333333333333333,
              "#9c179e"
             ],
             [
              0.4444444444444444,
              "#bd3786"
             ],
             [
              0.5555555555555556,
              "#d8576b"
             ],
             [
              0.6666666666666666,
              "#ed7953"
             ],
             [
              0.7777777777777778,
              "#fb9f3a"
             ],
             [
              0.8888888888888888,
              "#fdca26"
             ],
             [
              1,
              "#f0f921"
             ]
            ],
            "type": "histogram2d"
           }
          ],
          "histogram2dcontour": [
           {
            "colorbar": {
             "outlinewidth": 0,
             "ticks": ""
            },
            "colorscale": [
             [
              0,
              "#0d0887"
             ],
             [
              0.1111111111111111,
              "#46039f"
             ],
             [
              0.2222222222222222,
              "#7201a8"
             ],
             [
              0.3333333333333333,
              "#9c179e"
             ],
             [
              0.4444444444444444,
              "#bd3786"
             ],
             [
              0.5555555555555556,
              "#d8576b"
             ],
             [
              0.6666666666666666,
              "#ed7953"
             ],
             [
              0.7777777777777778,
              "#fb9f3a"
             ],
             [
              0.8888888888888888,
              "#fdca26"
             ],
             [
              1,
              "#f0f921"
             ]
            ],
            "type": "histogram2dcontour"
           }
          ],
          "mesh3d": [
           {
            "colorbar": {
             "outlinewidth": 0,
             "ticks": ""
            },
            "type": "mesh3d"
           }
          ],
          "parcoords": [
           {
            "line": {
             "colorbar": {
              "outlinewidth": 0,
              "ticks": ""
             }
            },
            "type": "parcoords"
           }
          ],
          "pie": [
           {
            "automargin": true,
            "type": "pie"
           }
          ],
          "scatter": [
           {
            "fillpattern": {
             "fillmode": "overlay",
             "size": 10,
             "solidity": 0.2
            },
            "type": "scatter"
           }
          ],
          "scatter3d": [
           {
            "line": {
             "colorbar": {
              "outlinewidth": 0,
              "ticks": ""
             }
            },
            "marker": {
             "colorbar": {
              "outlinewidth": 0,
              "ticks": ""
             }
            },
            "type": "scatter3d"
           }
          ],
          "scattercarpet": [
           {
            "marker": {
             "colorbar": {
              "outlinewidth": 0,
              "ticks": ""
             }
            },
            "type": "scattercarpet"
           }
          ],
          "scattergeo": [
           {
            "marker": {
             "colorbar": {
              "outlinewidth": 0,
              "ticks": ""
             }
            },
            "type": "scattergeo"
           }
          ],
          "scattergl": [
           {
            "marker": {
             "colorbar": {
              "outlinewidth": 0,
              "ticks": ""
             }
            },
            "type": "scattergl"
           }
          ],
          "scattermap": [
           {
            "marker": {
             "colorbar": {
              "outlinewidth": 0,
              "ticks": ""
             }
            },
            "type": "scattermap"
           }
          ],
          "scattermapbox": [
           {
            "marker": {
             "colorbar": {
              "outlinewidth": 0,
              "ticks": ""
             }
            },
            "type": "scattermapbox"
           }
          ],
          "scatterpolar": [
           {
            "marker": {
             "colorbar": {
              "outlinewidth": 0,
              "ticks": ""
             }
            },
            "type": "scatterpolar"
           }
          ],
          "scatterpolargl": [
           {
            "marker": {
             "colorbar": {
              "outlinewidth": 0,
              "ticks": ""
             }
            },
            "type": "scatterpolargl"
           }
          ],
          "scatterternary": [
           {
            "marker": {
             "colorbar": {
              "outlinewidth": 0,
              "ticks": ""
             }
            },
            "type": "scatterternary"
           }
          ],
          "surface": [
           {
            "colorbar": {
             "outlinewidth": 0,
             "ticks": ""
            },
            "colorscale": [
             [
              0,
              "#0d0887"
             ],
             [
              0.1111111111111111,
              "#46039f"
             ],
             [
              0.2222222222222222,
              "#7201a8"
             ],
             [
              0.3333333333333333,
              "#9c179e"
             ],
             [
              0.4444444444444444,
              "#bd3786"
             ],
             [
              0.5555555555555556,
              "#d8576b"
             ],
             [
              0.6666666666666666,
              "#ed7953"
             ],
             [
              0.7777777777777778,
              "#fb9f3a"
             ],
             [
              0.8888888888888888,
              "#fdca26"
             ],
             [
              1,
              "#f0f921"
             ]
            ],
            "type": "surface"
           }
          ],
          "table": [
           {
            "cells": {
             "fill": {
              "color": "#EBF0F8"
             },
             "line": {
              "color": "white"
             }
            },
            "header": {
             "fill": {
              "color": "#C8D4E3"
             },
             "line": {
              "color": "white"
             }
            },
            "type": "table"
           }
          ]
         },
         "layout": {
          "annotationdefaults": {
           "arrowcolor": "#2a3f5f",
           "arrowhead": 0,
           "arrowwidth": 1
          },
          "autotypenumbers": "strict",
          "coloraxis": {
           "colorbar": {
            "outlinewidth": 0,
            "ticks": ""
           }
          },
          "colorscale": {
           "diverging": [
            [
             0,
             "#8e0152"
            ],
            [
             0.1,
             "#c51b7d"
            ],
            [
             0.2,
             "#de77ae"
            ],
            [
             0.3,
             "#f1b6da"
            ],
            [
             0.4,
             "#fde0ef"
            ],
            [
             0.5,
             "#f7f7f7"
            ],
            [
             0.6,
             "#e6f5d0"
            ],
            [
             0.7,
             "#b8e186"
            ],
            [
             0.8,
             "#7fbc41"
            ],
            [
             0.9,
             "#4d9221"
            ],
            [
             1,
             "#276419"
            ]
           ],
           "sequential": [
            [
             0,
             "#0d0887"
            ],
            [
             0.1111111111111111,
             "#46039f"
            ],
            [
             0.2222222222222222,
             "#7201a8"
            ],
            [
             0.3333333333333333,
             "#9c179e"
            ],
            [
             0.4444444444444444,
             "#bd3786"
            ],
            [
             0.5555555555555556,
             "#d8576b"
            ],
            [
             0.6666666666666666,
             "#ed7953"
            ],
            [
             0.7777777777777778,
             "#fb9f3a"
            ],
            [
             0.8888888888888888,
             "#fdca26"
            ],
            [
             1,
             "#f0f921"
            ]
           ],
           "sequentialminus": [
            [
             0,
             "#0d0887"
            ],
            [
             0.1111111111111111,
             "#46039f"
            ],
            [
             0.2222222222222222,
             "#7201a8"
            ],
            [
             0.3333333333333333,
             "#9c179e"
            ],
            [
             0.4444444444444444,
             "#bd3786"
            ],
            [
             0.5555555555555556,
             "#d8576b"
            ],
            [
             0.6666666666666666,
             "#ed7953"
            ],
            [
             0.7777777777777778,
             "#fb9f3a"
            ],
            [
             0.8888888888888888,
             "#fdca26"
            ],
            [
             1,
             "#f0f921"
            ]
           ]
          },
          "colorway": [
           "#636efa",
           "#EF553B",
           "#00cc96",
           "#ab63fa",
           "#FFA15A",
           "#19d3f3",
           "#FF6692",
           "#B6E880",
           "#FF97FF",
           "#FECB52"
          ],
          "font": {
           "color": "#2a3f5f"
          },
          "geo": {
           "bgcolor": "white",
           "lakecolor": "white",
           "landcolor": "#E5ECF6",
           "showlakes": true,
           "showland": true,
           "subunitcolor": "white"
          },
          "hoverlabel": {
           "align": "left"
          },
          "hovermode": "closest",
          "mapbox": {
           "style": "light"
          },
          "paper_bgcolor": "white",
          "plot_bgcolor": "#E5ECF6",
          "polar": {
           "angularaxis": {
            "gridcolor": "white",
            "linecolor": "white",
            "ticks": ""
           },
           "bgcolor": "#E5ECF6",
           "radialaxis": {
            "gridcolor": "white",
            "linecolor": "white",
            "ticks": ""
           }
          },
          "scene": {
           "xaxis": {
            "backgroundcolor": "#E5ECF6",
            "gridcolor": "white",
            "gridwidth": 2,
            "linecolor": "white",
            "showbackground": true,
            "ticks": "",
            "zerolinecolor": "white"
           },
           "yaxis": {
            "backgroundcolor": "#E5ECF6",
            "gridcolor": "white",
            "gridwidth": 2,
            "linecolor": "white",
            "showbackground": true,
            "ticks": "",
            "zerolinecolor": "white"
           },
           "zaxis": {
            "backgroundcolor": "#E5ECF6",
            "gridcolor": "white",
            "gridwidth": 2,
            "linecolor": "white",
            "showbackground": true,
            "ticks": "",
            "zerolinecolor": "white"
           }
          },
          "shapedefaults": {
           "line": {
            "color": "#2a3f5f"
           }
          },
          "ternary": {
           "aaxis": {
            "gridcolor": "white",
            "linecolor": "white",
            "ticks": ""
           },
           "baxis": {
            "gridcolor": "white",
            "linecolor": "white",
            "ticks": ""
           },
           "bgcolor": "#E5ECF6",
           "caxis": {
            "gridcolor": "white",
            "linecolor": "white",
            "ticks": ""
           }
          },
          "title": {
           "x": 0.05
          },
          "xaxis": {
           "automargin": true,
           "gridcolor": "white",
           "linecolor": "white",
           "ticks": "",
           "title": {
            "standoff": 15
           },
           "zerolinecolor": "white",
           "zerolinewidth": 2
          },
          "yaxis": {
           "automargin": true,
           "gridcolor": "white",
           "linecolor": "white",
           "ticks": "",
           "title": {
            "standoff": 15
           },
           "zerolinecolor": "white",
           "zerolinewidth": 2
          }
         }
        },
        "title": {
         "font": {
          "size": 16
         },
         "text": "Diagrama de Sankey: Monitorización de los flujos de tráfico de red principales"
        },
        "width": 1200
       }
      }
     },
     "metadata": {},
     "output_type": "display_data"
    }
   ],
   "source": [
    "import pandas as pd\n",
    "import plotly.graph_objects as go\n",
    "from sklearn.preprocessing import LabelEncoder\n",
    "from typing import Optional\n",
    "\n",
    "def create_sankey_diagram_with_top_flows(\n",
    "    df: pd.DataFrame, \n",
    "    max_flows: int = 20\n",
    ") -> Optional[go.Figure]:\n",
    "    \"\"\"\n",
    "    Genera un diagrama de Sankey interactivo para visualizar los flujos de tráfico\n",
    "    de red más importantes.\n",
    "\n",
    "    Args:\n",
    "        df (pd.DataFrame): DataFrame de entrada que contiene los flujos de tráfico.\n",
    "        max_flows (int): El número de flujos más importantes a incluir en el diagrama.\n",
    "\n",
    "    Returns:\n",
    "        Optional[go.Figure]: Un objeto de figura de Plotly o None si ocurre una excepción.\n",
    "    \"\"\"\n",
    "    print(\"\\n--- [Visualización] Creando diagrama de Sankey para los flujos más importantes ---\")\n",
    "    try:\n",
    "        # 1. Agrupar por Source IP y Destination IP para sumar las métricas de flujo\n",
    "        grouped_df = df.groupby(['Source IP', 'Destination IP'])[['Flow Packets/s', 'Flow Bytes/s']].sum().reset_index()\n",
    "        grouped_df['Flow Importance'] = grouped_df['Flow Packets/s'] + grouped_df['Flow Bytes/s']\n",
    "\n",
    "        # 2. Eliminar flujos donde origen y destino son iguales\n",
    "        grouped_df = grouped_df[grouped_df['Source IP'] != grouped_df['Destination IP']]\n",
    "\n",
    "        # 3. Ordenar por importancia del flujo y limitar a los N flujos más importantes\n",
    "        top_flows_df = grouped_df.nlargest(max_flows, 'Flow Importance')\n",
    "        \n",
    "        if top_flows_df.empty:\n",
    "            print(\"No se encontraron flujos para visualizar después de filtrar.\")\n",
    "            return None\n",
    "\n",
    "        # 4. Codificación de las IPs a IDs numéricos\n",
    "        all_ips = pd.concat([top_flows_df['Source IP'], top_flows_df['Destination IP']]).unique()\n",
    "        \n",
    "        le = LabelEncoder()\n",
    "        le.fit(all_ips)\n",
    "        \n",
    "        sources = le.transform(top_flows_df['Source IP'])\n",
    "        targets = le.transform(top_flows_df['Destination IP'])\n",
    "        labels = [str(ip) for ip in all_ips]\n",
    "        values = top_flows_df['Flow Importance']\n",
    "\n",
    "        # 5. Definir la paleta de colores para los enlaces\n",
    "        colors = ['rgba(31, 119, 180, 0.8)', 'rgba(255, 127, 14, 0.8)', 'rgba(44, 160, 44, 0.8)',\n",
    "                  'rgba(214, 39, 40, 0.8)', 'rgba(148, 103, 189, 0.8)', 'rgba(140, 86, 75, 0.8)',\n",
    "                  'rgba(227, 119, 194, 0.8)', 'rgba(127, 127, 127, 0.8)', 'rgba(188, 189, 34, 0.8)',\n",
    "                  'rgba(23, 190, 207, 0.8)']\n",
    "        \n",
    "        link_colors = [colors[i % len(colors)] for i in range(len(top_flows_df))]\n",
    "\n",
    "        # 6. Creación del objeto de figura de Sankey\n",
    "        fig = go.Figure(\n",
    "            data=[go.Sankey(\n",
    "                node=dict(\n",
    "                    pad=15,\n",
    "                    thickness=20,\n",
    "                    line=dict(color=\"black\", width=0.5),\n",
    "                    label=labels,\n",
    "                    color='blue'\n",
    "                ),\n",
    "                link=dict(\n",
    "                    source=sources,\n",
    "                    target=targets,\n",
    "                    value=values,\n",
    "                    color=link_colors\n",
    "                )\n",
    "            )]\n",
    "        )\n",
    "\n",
    "        # 7. Personalización del diseño\n",
    "        # CORRECCIÓN: El estilo de la fuente del título debe ir dentro de la propiedad 'title'\n",
    "        fig.update_layout(\n",
    "            title={\n",
    "                'text': 'Diagrama de Sankey: Monitorización de los flujos de tráfico de red principales',\n",
    "                'font': {'size': 16}\n",
    "            },\n",
    "            width=1200,\n",
    "            height=800\n",
    "        )\n",
    "        \n",
    "        print(\"[Visualización] Diagrama de Sankey creado con éxito.\")\n",
    "        return fig\n",
    "    \n",
    "    except Exception as Ex:\n",
    "        print(f\"[EXCEPTION] (create_sankey_diagram_with_top_flows) Se ha producido una excepción: {Ex}\")\n",
    "        return None\n",
    "\n",
    "# Ejemplo de uso\n",
    "df = pd.DataFrame({\n",
    "    'Source IP': ['192.168.1.1', '192.168.1.2', '192.168.1.3', '192.168.1.4', '192.168.1.1', '192.168.1.2'],\n",
    "    'Destination IP': ['10.10.10.1', '10.10.10.2', '10.10.10.1', '10.10.10.3', '10.10.10.2', '10.10.10.1'],\n",
    "    'Flow Packets/s': [10, 20, 30, 40, 50, 25],\n",
    "    'Flow Bytes/s': [100, 200, 300, 400, 500, 350]\n",
    "})\n",
    "\n",
    "sankey_diagram = create_sankey_diagram_with_top_flows(df)\n",
    "\n",
    "if sankey_diagram:\n",
    "    sankey_diagram.show()\n",
    "else:\n",
    "    print(\"No se pudo generar el diagrama de Sankey.\")"
   ]
  },
  {
   "cell_type": "code",
   "execution_count": 10,
   "id": "9870736a-ca27-4b3e-8ad1-7463d46cd41a",
   "metadata": {},
   "outputs": [],
   "source": [
    "import pandas as pd\n",
    "from typing import List, Optional, Tuple, Dict\n",
    "import numpy as np\n",
    "\n",
    "# Se asume que esta función ya está definida y mejorada\n",
    "# from mi_modulo import create_sankey_diagram_with_top_flows\n",
    "\n",
    "def f_detect_scanning_activity(df: pd.DataFrame,\n",
    "                               start_time: pd.Timestamp,\n",
    "                               end_time: pd.Timestamp,\n",
    "                               thresholds: Optional[Dict[str, float]] = None) -> Optional[pd.DataFrame]:\n",
    "    \"\"\"\n",
    "    Detecta flujos de tráfico sospechosos de actividad de exploración (scanning)\n",
    "    dentro de un rango de tiempo específico.\n",
    "\n",
    "    La detección se basa en umbrales estadísticos de métricas clave como\n",
    "    'Flow Packets/s', 'Flow Bytes/s', 'Flow Duration', y la relación entre\n",
    "    paquetes de envío y recepción.\n",
    "\n",
    "    Args:\n",
    "        df (pd.DataFrame): El DataFrame completo de tráfico de red.\n",
    "        start_time (pd.Timestamp): El inicio del rango de tiempo para la detección.\n",
    "        end_time (pd.Timestamp): El final del rango de tiempo para la detección.\n",
    "        thresholds (Optional[Dict[str, float]]): Diccionario con umbrales personalizados.\n",
    "            Si es None, los umbrales se calcularán dinámicamente.\n",
    "\n",
    "    Returns:\n",
    "        Optional[pd.DataFrame]: Un DataFrame con los flujos sospechosos ordenados\n",
    "                                por importancia, o None si no se encuentran.\n",
    "\n",
    "    Raises:\n",
    "        ValueError: Si el DataFrame no contiene las columnas necesarias.\n",
    "    \"\"\"\n",
    "    print(\"\\n--- [Detección de Exploración] Analizando el rango de tiempo ---\")\n",
    "\n",
    "    required_cols = ['Timestamp', 'Flow Packets/s', 'Flow Bytes/s', 'Flow Duration',\n",
    "                     'Total Fwd Packets', 'Total Backward Packets']\n",
    "    if not all(col in df.columns for col in required_cols):\n",
    "        raise ValueError(f\"Error: Faltan las siguientes columnas en el DataFrame: {required_cols}\")\n",
    "\n",
    "    try:\n",
    "        # Filtrar el DataFrame por el rango de tiempo\n",
    "        df_time_filtered = df[(df['Timestamp'] >= start_time) & (df['Timestamp'] <= end_time)].copy()\n",
    "\n",
    "        if df_time_filtered.empty:\n",
    "            print(f\"No se encontraron datos en el rango de tiempo {start_time} - {end_time}.\")\n",
    "            return None\n",
    "\n",
    "        # Definir o calcular los umbrales de detección\n",
    "        if thresholds:\n",
    "            flow_packets_threshold = thresholds.get('flow_packets_threshold')\n",
    "            flow_bytes_threshold = thresholds.get('flow_bytes_threshold')\n",
    "            short_duration_threshold = thresholds.get('short_duration_threshold')\n",
    "        else:\n",
    "            # Calcular umbrales de forma robusta (media + 2*std para valores atípicos)\n",
    "            # Se usan los datos filtrados para un cálculo más preciso del rango\n",
    "            flow_packets_threshold = df_time_filtered['Flow Packets/s'].mean() + 2 * df_time_filtered['Flow Packets/s'].std()\n",
    "            flow_bytes_threshold = df_time_filtered['Flow Bytes/s'].mean() + 2 * df_time_filtered['Flow Bytes/s'].std()\n",
    "            short_duration_threshold = df_time_filtered['Flow Duration'].mean() - 1 * df_time_filtered['Flow Duration'].std()\n",
    "\n",
    "        # Lógica de detección de patrones de exploración\n",
    "        suspicious_flows = df_time_filtered[\n",
    "            (df_time_filtered['Flow Packets/s'] > flow_packets_threshold) |\n",
    "            (df_time_filtered['Flow Bytes/s'] > flow_bytes_threshold) |\n",
    "            (df_time_filtered['Flow Duration'] < short_duration_threshold) |\n",
    "            ((df_time_filtered['Total Fwd Packets'] / (df_time_filtered['Total Backward Packets'] + 1)) > 3) |\n",
    "            ((df_time_filtered['Total Backward Packets'] / (df_time_filtered['Total Fwd Packets'] + 1)) > 3)\n",
    "        ]\n",
    "\n",
    "        # Ordenar y seleccionar los N flujos más importantes\n",
    "        suspicious_flows = suspicious_flows.sort_values(by=['Flow Packets/s', 'Flow Bytes/s'], ascending=False).head(10)\n",
    "\n",
    "        if suspicious_flows.empty:\n",
    "            print(\"No se detectaron flujos sospechosos con los umbrales definidos.\")\n",
    "            return None\n",
    "\n",
    "        print(f\"Se detectaron {len(suspicious_flows)} flujos sospechosos.\")\n",
    "        return suspicious_flows\n",
    "\n",
    "    except Exception as ex:\n",
    "        print(f\"[Excepción] Error en la detección de actividad de exploración: {ex}\")\n",
    "        raise\n",
    "\n",
    "def f_explore_network_traffic_for_scanning_activity(df: pd.DataFrame,\n",
    "                                                    start_time: str,\n",
    "                                                    end_time: str,\n",
    "                                                    attributes_to_display: List[str]) -> Optional[pd.DataFrame]:\n",
    "    \"\"\"\n",
    "    Orquesta la exploración del tráfico de red para identificar actividad de\n",
    "    exploración (scanning) y visualiza los resultados.\n",
    "\n",
    "    La función itera a través de un rango de tiempo, detecta flujos sospechosos\n",
    "    y los consolida. Finalmente, genera un diagrama de Sankey para visualizar\n",
    "    los flujos más relevantes.\n",
    "\n",
    "    Args:\n",
    "        df (pd.DataFrame): El DataFrame completo de tráfico de red.\n",
    "        start_time (str): La fecha y hora de inicio de la exploración (e.g., '2017-07-07 03:40:00').\n",
    "        end_time (str): La fecha y hora de finalización de la exploración (e.g., '2017-07-07 04:50:00').\n",
    "        attributes_to_display (List[str]): Lista de las columnas a mostrar en los resultados.\n",
    "\n",
    "    Returns:\n",
    "        Optional[pd.DataFrame]: Un DataFrame consolidado con los flujos sospechosos,\n",
    "                                o None si no se encontraron.\n",
    "\n",
    "    Raises:\n",
    "        Exception: Captura y relanza cualquier otro error durante la ejecución.\n",
    "    \"\"\"\n",
    "    print(\"\\n--- [Exploración de Ataques] Iniciando el análisis del tráfico de red ---\")\n",
    "\n",
    "    try:\n",
    "        dt_start = pd.Timestamp(start_time)\n",
    "        dt_end = pd.Timestamp(end_time)\n",
    "\n",
    "        # Usar solo los datos \"BENIGN\" para el análisis de exploración si es apropiado\n",
    "        df_benign = df[df['Label'] == 'BENIGN'].copy()\n",
    "\n",
    "        time_range = pd.date_range(start=dt_start, end=dt_end, freq='1min')\n",
    "        results_list = [] # Usar una lista para un rendimiento óptimo\n",
    "\n",
    "        print(f\"Procesando flujos en el rango de {dt_start} a {dt_end}...\")\n",
    "        for dt in time_range:\n",
    "            suspicious_flows_chunk = f_detect_scanning_activity(df_benign, dt, dt + pd.Timedelta(minutes=1))\n",
    "            if suspicious_flows_chunk is not None and not suspicious_flows_chunk.empty:\n",
    "                results_list.append(suspicious_flows_chunk)\n",
    "\n",
    "        if not results_list:\n",
    "            print(\"No se detectaron flujos sospechosos en el rango de tiempo especificado.\")\n",
    "            return None\n",
    "\n",
    "        # Concatenar todos los resultados de una sola vez\n",
    "        results_df = pd.concat(results_list, ignore_index=True)\n",
    "\n",
    "        print(\"\\n--- Flujos sospechosos consolidados (Top 10) ---\")\n",
    "        suspicious_flows_top = results_df.sort_values(by=['Flow Packets/s', 'Flow Bytes/s'], ascending=False).head(10)\n",
    "\n",
    "        # Asegurarse de que el DataFrame para la visualización tenga las columnas correctas\n",
    "        if all(col in suspicious_flows_top.columns for col in ['Source IP', 'Destination IP', 'Flow Importance']):\n",
    "            create_sankey_diagram_with_top_flows(suspicious_flows_top)\n",
    "        else:\n",
    "            print(\"No se puede generar el diagrama de Sankey. Faltan columnas en los datos consolidados.\")\n",
    "\n",
    "        print(\"\\n[Exploración de Ataques] Proceso finalizado.\")\n",
    "        return suspicious_flows_top\n",
    "\n",
    "    except Exception as Ex:\n",
    "        print(f\"[Excepción] Error en la exploración del tráfico de red: {Ex}\")\n",
    "        raise"
   ]
  },
  {
   "cell_type": "markdown",
   "id": "927d601f-06d6-41f0-aa73-34f9cfacc935",
   "metadata": {},
   "source": [
    "### 3.2.- Fase de Compromiso"
   ]
  },
  {
   "cell_type": "code",
   "execution_count": 11,
   "id": "be5f7def-9ad6-407c-819c-dc2f6bd07bda",
   "metadata": {},
   "outputs": [],
   "source": [
    "import pandas as pd\n",
    "from typing import List, Optional, Tuple, Dict\n",
    "import numpy as np\n",
    "\n",
    "# Se asume que esta función ya está definida y mejorada\n",
    "# from mi_modulo import create_sankey_diagram_with_top_flows\n",
    "\n",
    "def f_detect_ddos_commitment_activity(df: pd.DataFrame,\n",
    "                                      start_time: pd.Timestamp,\n",
    "                                      end_time: pd.Timestamp,\n",
    "                                      thresholds: Optional[Dict[str, float]] = None) -> Optional[pd.DataFrame]:\n",
    "    \"\"\"\n",
    "    Detecta flujos de tráfico sospechosos de actividad DDoS dentro de un rango\n",
    "    de tiempo específico.\n",
    "\n",
    "    La detección se basa en umbrales estadísticos de métricas clave como\n",
    "    'Flow Packets/s', 'Flow Bytes/s', 'Flow Duration' y el tipo de protocolo.\n",
    "\n",
    "    Args:\n",
    "        df (pd.DataFrame): El DataFrame completo de tráfico de red.\n",
    "        start_time (pd.Timestamp): El inicio del rango de tiempo para la detección.\n",
    "        end_time (pd.Timestamp): El final del rango de tiempo para la detección.\n",
    "        thresholds (Optional[Dict[str, float]]): Diccionario con umbrales personalizados.\n",
    "            Si es None, los umbrales se calcularán dinámicamente.\n",
    "\n",
    "    Returns:\n",
    "        Optional[pd.DataFrame]: Un DataFrame con los flujos sospechosos ordenados\n",
    "                                por importancia, o None si no se encuentran.\n",
    "\n",
    "    Raises:\n",
    "        ValueError: Si el DataFrame no contiene las columnas necesarias.\n",
    "    \"\"\"\n",
    "    print(\"\\n--- [Detección de Compromiso] Analizando el rango de tiempo ---\")\n",
    "\n",
    "    required_cols = ['Timestamp', 'Flow Packets/s', 'Flow Bytes/s', 'Flow Duration', 'Protocol']\n",
    "    if not all(col in df.columns for col in required_cols):\n",
    "        raise ValueError(f\"Error: Faltan las siguientes columnas en el DataFrame: {required_cols}\")\n",
    "\n",
    "    try:\n",
    "        # Filtrar el DataFrame por el rango de tiempo\n",
    "        df_time_filtered = df[(df['Timestamp'] >= start_time) & (df['Timestamp'] <= end_time)].copy()\n",
    "\n",
    "        if df_time_filtered.empty:\n",
    "            print(f\"No se encontraron datos en el rango de tiempo {start_time} - {end_time}.\")\n",
    "            return None\n",
    "\n",
    "        # Definir o calcular los umbrales de detección\n",
    "        if thresholds:\n",
    "            flow_packets_threshold = thresholds.get('flow_packets_threshold')\n",
    "            flow_bytes_threshold = thresholds.get('flow_bytes_threshold')\n",
    "            long_duration_threshold = thresholds.get('long_duration_threshold')\n",
    "        else:\n",
    "            # Calcular umbrales de forma robusta\n",
    "            flow_packets_threshold = df_time_filtered['Flow Packets/s'].mean() + 3 * df_time_filtered['Flow Packets/s'].std()\n",
    "            flow_bytes_threshold = df_time_filtered['Flow Bytes/s'].mean() + 3 * df_time_filtered['Flow Bytes/s'].std()\n",
    "            long_duration_threshold = df_time_filtered['Flow Duration'].mean() + 1 * df_time_filtered['Flow Duration'].std()\n",
    "\n",
    "        # Lógica de detección de patrones de DDoS\n",
    "        ddos_flows = df_time_filtered[\n",
    "            (df_time_filtered['Flow Packets/s'] > flow_packets_threshold) |\n",
    "            (df_time_filtered['Flow Bytes/s'] > flow_bytes_threshold) |\n",
    "            (df_time_filtered['Flow Duration'] > long_duration_threshold) &\n",
    "            (df_time_filtered['Protocol'].isin([6, 17])) # Protocolo 6 para TCP, 17 para UDP\n",
    "        ]\n",
    "\n",
    "        # Ordenar y seleccionar los N flujos más importantes\n",
    "        ddos_flows = ddos_flows.sort_values(by=['Flow Packets/s', 'Flow Bytes/s'], ascending=False).head(5)\n",
    "\n",
    "        if ddos_flows.empty:\n",
    "            print(\"No se detectaron flujos sospechosos de DDoS con los umbrales definidos.\")\n",
    "            return None\n",
    "\n",
    "        print(f\"Se detectaron {len(ddos_flows)} flujos sospechosos de DDoS.\")\n",
    "        return ddos_flows\n",
    "\n",
    "    except Exception as ex:\n",
    "        print(f\"[Excepción] Error en la detección de actividad de compromiso DDoS: {ex}\")\n",
    "        raise\n",
    "\n",
    "def f_explore_system_commitment_activity(df: pd.DataFrame,\n",
    "                                        start_time: str,\n",
    "                                        end_time: str,\n",
    "                                        attributes_to_display: List[str]) -> Optional[pd.DataFrame]:\n",
    "    \"\"\"\n",
    "    Orquesta la exploración del tráfico de red para identificar actividad de\n",
    "    compromiso del sistema por ataques DDoS y visualiza los resultados.\n",
    "\n",
    "    La función itera a través de un rango de tiempo, detecta flujos sospechosos\n",
    "    y los consolida. Finalmente, genera un diagrama de Sankey para visualizar\n",
    "    los flujos más relevantes.\n",
    "\n",
    "    Args:\n",
    "        df (pd.DataFrame): El DataFrame completo de tráfico de red.\n",
    "        start_time (str): La fecha y hora de inicio de la exploración (e.g., '2017-07-07 03:40:00').\n",
    "        end_time (str): La fecha y hora de finalización de la exploración (e.g., '2017-07-07 04:50:00').\n",
    "        attributes_to_display (List[str]): Lista de las columnas a mostrar en los resultados.\n",
    "\n",
    "    Returns:\n",
    "        Optional[pd.DataFrame]: Un DataFrame consolidado con los flujos sospechosos,\n",
    "                                o None si no se encontraron.\n",
    "\n",
    "    Raises:\n",
    "        Exception: Captura y relanza cualquier otro error durante la ejecución.\n",
    "    \"\"\"\n",
    "    print(\"\\n--- [Exploración de Ataques] Iniciando el análisis del compromiso del sistema ---\")\n",
    "\n",
    "    try:\n",
    "        dt_start = pd.Timestamp(start_time)\n",
    "        dt_end = pd.Timestamp(end_time)\n",
    "\n",
    "        # Usar solo los datos \"BENIGN\" para el análisis si es apropiado, o el dataset completo\n",
    "        df_to_analyze = df[df['Label'] == 'BENIGN'].copy()\n",
    "\n",
    "        time_range = pd.date_range(start=dt_start, end=dt_end, freq='1min')\n",
    "        results_list = []  # Usar una lista para un rendimiento óptimo\n",
    "\n",
    "        print(f\"Procesando flujos en el rango de {dt_start} a {dt_end}...\")\n",
    "        for dt in time_range:\n",
    "            suspicious_flows_chunk = f_detect_ddos_commitment_activity(df_to_analyze, dt, dt + pd.Timedelta(minutes=1))\n",
    "            if suspicious_flows_chunk is not None and not suspicious_flows_chunk.empty:\n",
    "                results_list.append(suspicious_flows_chunk)\n",
    "\n",
    "        if not results_list:\n",
    "            print(\"No se detectaron flujos sospechosos en el rango de tiempo especificado.\")\n",
    "            return None\n",
    "\n",
    "        # Concatenar todos los resultados de una sola vez\n",
    "        results_df = pd.concat(results_list, ignore_index=True)\n",
    "\n",
    "        print(\"\\n--- Flujos sospechosos consolidados (Top 5) ---\")\n",
    "        suspicious_flows_top = results_df.sort_values(by=['Flow Packets/s', 'Flow Bytes/s'], ascending=False).head(5)\n",
    "        print(tabulate(suspicious_flows_top[attributes_to_display], headers='keys', tablefmt='psql'))\n",
    "\n",
    "        # Asegurarse de que el DataFrame para la visualización tenga las columnas correctas\n",
    "        if all(col in suspicious_flows_top.columns for col in ['Source IP', 'Destination IP', 'Flow Importance']):\n",
    "            create_sankey_diagram_with_top_flows(suspicious_flows_top)\n",
    "        else:\n",
    "            print(\"No se puede generar el diagrama de Sankey. Faltan columnas en los datos consolidados.\")\n",
    "\n",
    "        print(\"\\n[Exploración de Ataques] Proceso finalizado.\")\n",
    "        return suspicious_flows_top\n",
    "\n",
    "    except Exception as Ex:\n",
    "        print(f\"[Excepción] Error en la exploración del tráfico de red: {Ex}\")\n",
    "        raise"
   ]
  },
  {
   "cell_type": "markdown",
   "id": "d1bcad54-ae46-4c5d-a1c6-2afaa90213ac",
   "metadata": {},
   "source": [
    "## 4.- Programa Principal: Prueba de concepto Awareness Situation for Smart Grid in DDoS Attacks"
   ]
  },
  {
   "cell_type": "code",
   "execution_count": 12,
   "id": "cd35507c-a301-444c-bce5-c8ebcbc4b798",
   "metadata": {},
   "outputs": [
    {
     "name": "stdout",
     "output_type": "stream",
     "text": [
      "--- [FASE DE ANÁLISIS] Inicio del proceso de exploración y compromiso ---\n",
      "\n",
      "[1/4] Cargando y preprocesando datos desde: C:/DataSets/Produccion/Friday-WorkingHours-Afternoon-DDos.pcap_ISCX.csv\n",
      "1.1- [Data Collection] Process-CSV: [C:/DataSets/Produccion/Friday-WorkingHours-Afternoon-DDos.pcap_ISCX.csv]\n",
      "\n",
      "1.2.- [Data Collection] Finalización carga de Tiempo: 0.08 secs\n",
      " [C:/DataSets/Produccion/Friday-WorkingHours-Afternoon-DDos.pcap_ISCX.csv]\n",
      "1.4.- [Data Collection] Finalizada la carga del conjunto de datos: [C:/DataSets/Produccion/Friday-WorkingHours-Afternoon-DDos.pcap_ISCX.csv]\n",
      "\n",
      "1.5.- [Data Collection] - Clasificador:  ['BENIGN' 'DDoS']\n",
      "Etiqueta:  BENIGN 43.29 % del dataset\n",
      "Etiqueta:  DDoS 56.71 % del dataset\n",
      "--- 2.1 [Data Cleaning] Iniciando proceso de limpieza de datos. ---\n",
      "-> 2.1.1 Eliminación de filas duplicadas. Filas eliminadas: 2\n",
      "-> 2.1.2 Manejando valores nulos, infinitos y tipos de datos.\n",
      "-> 2.1.3 Procesando la columna 'Label'.\n",
      "-> Presentación de resultados: Distribución de Etiquetas\n",
      "    - Etiqueta: 'DDoS', Porcentaje: 56.71% del dataset\n",
      "    - Etiqueta: 'BENIGN', Porcentaje: 43.29% del dataset\n",
      "-> 2.1.4 Conversión de campos y normalización de IPs.\n",
      "-> IPs corruptas recuperadas y normalizadas.\n",
      "--- 2.1 [Data Cleaning] Proceso de limpieza finalizado. ---\n",
      "[6/4] Preprocesamiento completado. DataFrame listo para el análisis.\n",
      "\n",
      "[6/4] Iniciando análisis de la fase de exploración (Scanning)...\n",
      "\n",
      "--- [Exploración de Ataques] Iniciando el análisis del tráfico de red ---\n",
      "Procesando flujos en el rango de 2017-07-07 03:40:00 a 2017-07-07 04:50:00...\n",
      "\n",
      "--- [Detección de Exploración] Analizando el rango de tiempo ---\n",
      "[Excepción] Error en la exploración del tráfico de red: Error: Faltan las siguientes columnas en el DataFrame: ['Timestamp', 'Flow Packets/s', 'Flow Bytes/s', 'Flow Duration', 'Total Fwd Packets', 'Total Backward Packets']\n",
      "Error durante el análisis de exploración: Error: Faltan las siguientes columnas en el DataFrame: ['Timestamp', 'Flow Packets/s', 'Flow Bytes/s', 'Flow Duration', 'Total Fwd Packets', 'Total Backward Packets']\n",
      "\n",
      "[6/4] Iniciando análisis de la fase de compromiso (DDoS)...\n",
      "\n",
      "--- [Exploración de Ataques] Iniciando el análisis del compromiso del sistema ---\n",
      "Procesando flujos en el rango de 2017-07-07 03:40:00 a 2017-07-07 04:50:00...\n",
      "\n",
      "--- [Detección de Compromiso] Analizando el rango de tiempo ---\n",
      "Se detectaron 5 flujos sospechosos de DDoS.\n",
      "\n",
      "--- [Detección de Compromiso] Analizando el rango de tiempo ---\n",
      "Se detectaron 5 flujos sospechosos de DDoS.\n",
      "\n",
      "--- [Detección de Compromiso] Analizando el rango de tiempo ---\n",
      "Se detectaron 5 flujos sospechosos de DDoS.\n",
      "\n",
      "--- [Detección de Compromiso] Analizando el rango de tiempo ---\n",
      "Se detectaron 5 flujos sospechosos de DDoS.\n",
      "\n",
      "--- [Detección de Compromiso] Analizando el rango de tiempo ---\n",
      "Se detectaron 5 flujos sospechosos de DDoS.\n",
      "\n",
      "--- [Detección de Compromiso] Analizando el rango de tiempo ---\n",
      "Se detectaron 5 flujos sospechosos de DDoS.\n",
      "\n",
      "--- [Detección de Compromiso] Analizando el rango de tiempo ---\n",
      "Se detectaron 5 flujos sospechosos de DDoS.\n",
      "\n",
      "--- [Detección de Compromiso] Analizando el rango de tiempo ---\n",
      "Se detectaron 5 flujos sospechosos de DDoS.\n",
      "\n",
      "--- [Detección de Compromiso] Analizando el rango de tiempo ---\n",
      "Se detectaron 5 flujos sospechosos de DDoS.\n",
      "\n",
      "--- [Detección de Compromiso] Analizando el rango de tiempo ---\n",
      "Se detectaron 5 flujos sospechosos de DDoS.\n",
      "\n",
      "--- [Detección de Compromiso] Analizando el rango de tiempo ---\n",
      "Se detectaron 5 flujos sospechosos de DDoS.\n",
      "\n",
      "--- [Detección de Compromiso] Analizando el rango de tiempo ---\n",
      "Se detectaron 5 flujos sospechosos de DDoS.\n",
      "\n",
      "--- [Detección de Compromiso] Analizando el rango de tiempo ---\n",
      "Se detectaron 5 flujos sospechosos de DDoS.\n",
      "\n",
      "--- [Detección de Compromiso] Analizando el rango de tiempo ---\n",
      "Se detectaron 5 flujos sospechosos de DDoS.\n",
      "\n",
      "--- [Detección de Compromiso] Analizando el rango de tiempo ---\n",
      "Se detectaron 5 flujos sospechosos de DDoS.\n",
      "\n",
      "--- [Detección de Compromiso] Analizando el rango de tiempo ---\n",
      "Se detectaron 5 flujos sospechosos de DDoS.\n",
      "\n",
      "--- [Detección de Compromiso] Analizando el rango de tiempo ---\n",
      "Se detectaron 5 flujos sospechosos de DDoS.\n",
      "\n",
      "--- [Detección de Compromiso] Analizando el rango de tiempo ---\n",
      "Se detectaron 5 flujos sospechosos de DDoS.\n",
      "\n",
      "--- [Detección de Compromiso] Analizando el rango de tiempo ---\n",
      "Se detectaron 5 flujos sospechosos de DDoS.\n",
      "\n",
      "--- [Detección de Compromiso] Analizando el rango de tiempo ---\n",
      "Se detectaron 5 flujos sospechosos de DDoS.\n",
      "\n",
      "--- [Detección de Compromiso] Analizando el rango de tiempo ---\n",
      "Se detectaron 5 flujos sospechosos de DDoS.\n",
      "\n",
      "--- [Detección de Compromiso] Analizando el rango de tiempo ---\n",
      "Se detectaron 5 flujos sospechosos de DDoS.\n",
      "\n",
      "--- [Detección de Compromiso] Analizando el rango de tiempo ---\n",
      "Se detectaron 5 flujos sospechosos de DDoS.\n",
      "\n",
      "--- [Detección de Compromiso] Analizando el rango de tiempo ---\n",
      "Se detectaron 5 flujos sospechosos de DDoS.\n",
      "\n",
      "--- [Detección de Compromiso] Analizando el rango de tiempo ---\n",
      "Se detectaron 5 flujos sospechosos de DDoS.\n",
      "\n",
      "--- [Detección de Compromiso] Analizando el rango de tiempo ---\n",
      "Se detectaron 5 flujos sospechosos de DDoS.\n",
      "\n",
      "--- [Detección de Compromiso] Analizando el rango de tiempo ---\n",
      "Se detectaron 5 flujos sospechosos de DDoS.\n",
      "\n",
      "--- [Detección de Compromiso] Analizando el rango de tiempo ---\n",
      "Se detectaron 5 flujos sospechosos de DDoS.\n",
      "\n",
      "--- [Detección de Compromiso] Analizando el rango de tiempo ---\n",
      "Se detectaron 5 flujos sospechosos de DDoS.\n",
      "\n",
      "--- [Detección de Compromiso] Analizando el rango de tiempo ---\n",
      "Se detectaron 5 flujos sospechosos de DDoS.\n",
      "\n",
      "--- [Detección de Compromiso] Analizando el rango de tiempo ---\n",
      "Se detectaron 5 flujos sospechosos de DDoS.\n",
      "\n",
      "--- [Detección de Compromiso] Analizando el rango de tiempo ---\n",
      "Se detectaron 5 flujos sospechosos de DDoS.\n",
      "\n",
      "--- [Detección de Compromiso] Analizando el rango de tiempo ---\n",
      "Se detectaron 5 flujos sospechosos de DDoS.\n",
      "\n",
      "--- [Detección de Compromiso] Analizando el rango de tiempo ---\n",
      "Se detectaron 5 flujos sospechosos de DDoS.\n",
      "\n",
      "--- [Detección de Compromiso] Analizando el rango de tiempo ---\n",
      "Se detectaron 5 flujos sospechosos de DDoS.\n",
      "\n",
      "--- [Detección de Compromiso] Analizando el rango de tiempo ---\n",
      "Se detectaron 5 flujos sospechosos de DDoS.\n",
      "\n",
      "--- [Detección de Compromiso] Analizando el rango de tiempo ---\n",
      "Se detectaron 5 flujos sospechosos de DDoS.\n",
      "\n",
      "--- [Detección de Compromiso] Analizando el rango de tiempo ---\n",
      "Se detectaron 5 flujos sospechosos de DDoS.\n",
      "\n",
      "--- [Detección de Compromiso] Analizando el rango de tiempo ---\n",
      "Se detectaron 5 flujos sospechosos de DDoS.\n",
      "\n",
      "--- [Detección de Compromiso] Analizando el rango de tiempo ---\n",
      "Se detectaron 5 flujos sospechosos de DDoS.\n",
      "\n",
      "--- [Detección de Compromiso] Analizando el rango de tiempo ---\n",
      "Se detectaron 5 flujos sospechosos de DDoS.\n",
      "\n",
      "--- [Detección de Compromiso] Analizando el rango de tiempo ---\n",
      "Se detectaron 5 flujos sospechosos de DDoS.\n",
      "\n",
      "--- [Detección de Compromiso] Analizando el rango de tiempo ---\n",
      "Se detectaron 5 flujos sospechosos de DDoS.\n",
      "\n",
      "--- [Detección de Compromiso] Analizando el rango de tiempo ---\n",
      "Se detectaron 5 flujos sospechosos de DDoS.\n",
      "\n",
      "--- [Detección de Compromiso] Analizando el rango de tiempo ---\n",
      "Se detectaron 5 flujos sospechosos de DDoS.\n",
      "\n",
      "--- [Detección de Compromiso] Analizando el rango de tiempo ---\n",
      "Se detectaron 5 flujos sospechosos de DDoS.\n",
      "\n",
      "--- [Detección de Compromiso] Analizando el rango de tiempo ---\n",
      "Se detectaron 5 flujos sospechosos de DDoS.\n",
      "\n",
      "--- [Detección de Compromiso] Analizando el rango de tiempo ---\n",
      "Se detectaron 5 flujos sospechosos de DDoS.\n",
      "\n",
      "--- [Detección de Compromiso] Analizando el rango de tiempo ---\n",
      "Se detectaron 5 flujos sospechosos de DDoS.\n",
      "\n",
      "--- [Detección de Compromiso] Analizando el rango de tiempo ---\n",
      "Se detectaron 5 flujos sospechosos de DDoS.\n",
      "\n",
      "--- [Detección de Compromiso] Analizando el rango de tiempo ---\n",
      "Se detectaron 5 flujos sospechosos de DDoS.\n",
      "\n",
      "--- [Detección de Compromiso] Analizando el rango de tiempo ---\n",
      "Se detectaron 5 flujos sospechosos de DDoS.\n",
      "\n",
      "--- [Detección de Compromiso] Analizando el rango de tiempo ---\n",
      "Se detectaron 5 flujos sospechosos de DDoS.\n",
      "\n",
      "--- [Detección de Compromiso] Analizando el rango de tiempo ---\n",
      "Se detectaron 5 flujos sospechosos de DDoS.\n",
      "\n",
      "--- [Detección de Compromiso] Analizando el rango de tiempo ---\n",
      "Se detectaron 5 flujos sospechosos de DDoS.\n",
      "\n",
      "--- [Detección de Compromiso] Analizando el rango de tiempo ---\n",
      "Se detectaron 5 flujos sospechosos de DDoS.\n",
      "\n",
      "--- [Detección de Compromiso] Analizando el rango de tiempo ---\n",
      "Se detectaron 5 flujos sospechosos de DDoS.\n",
      "\n",
      "--- [Detección de Compromiso] Analizando el rango de tiempo ---\n",
      "Se detectaron 5 flujos sospechosos de DDoS.\n",
      "\n",
      "--- [Detección de Compromiso] Analizando el rango de tiempo ---\n",
      "Se detectaron 5 flujos sospechosos de DDoS.\n",
      "\n",
      "--- [Detección de Compromiso] Analizando el rango de tiempo ---\n",
      "Se detectaron 5 flujos sospechosos de DDoS.\n",
      "\n",
      "--- [Detección de Compromiso] Analizando el rango de tiempo ---\n",
      "Se detectaron 5 flujos sospechosos de DDoS.\n",
      "\n",
      "--- [Detección de Compromiso] Analizando el rango de tiempo ---\n",
      "Se detectaron 5 flujos sospechosos de DDoS.\n",
      "\n",
      "--- [Detección de Compromiso] Analizando el rango de tiempo ---\n",
      "Se detectaron 5 flujos sospechosos de DDoS.\n",
      "\n",
      "--- [Detección de Compromiso] Analizando el rango de tiempo ---\n",
      "Se detectaron 5 flujos sospechosos de DDoS.\n",
      "\n",
      "--- [Detección de Compromiso] Analizando el rango de tiempo ---\n",
      "Se detectaron 5 flujos sospechosos de DDoS.\n",
      "\n",
      "--- [Detección de Compromiso] Analizando el rango de tiempo ---\n",
      "Se detectaron 5 flujos sospechosos de DDoS.\n",
      "\n",
      "--- [Detección de Compromiso] Analizando el rango de tiempo ---\n",
      "Se detectaron 5 flujos sospechosos de DDoS.\n",
      "\n",
      "--- [Detección de Compromiso] Analizando el rango de tiempo ---\n",
      "Se detectaron 5 flujos sospechosos de DDoS.\n",
      "\n",
      "--- [Detección de Compromiso] Analizando el rango de tiempo ---\n",
      "Se detectaron 5 flujos sospechosos de DDoS.\n",
      "\n",
      "--- [Detección de Compromiso] Analizando el rango de tiempo ---\n",
      "Se detectaron 5 flujos sospechosos de DDoS.\n",
      "\n",
      "--- [Detección de Compromiso] Analizando el rango de tiempo ---\n",
      "Se detectaron 5 flujos sospechosos de DDoS.\n",
      "\n",
      "--- Flujos sospechosos consolidados (Top 5) ---\n",
      "+-----+---------------------+-----------------+------------------+------------+------------------+----------------+-----------------+---------+\n",
      "|     | Timestamp           | Source IP       | Destination IP   |   Protocol |   Flow Packets/s |   Flow Bytes/s |   Flow Duration | Label   |\n",
      "|-----+---------------------+-----------------+------------------+------------+------------------+----------------+-----------------+---------|\n",
      "| 115 | 2017-07-07 04:04:00 | 151.101.128.188 | 192.168.10.14    |          6 |            3e+06 |        4.3e+07 |               1 | BENIGN  |\n",
      "| 120 | 2017-07-07 04:04:00 | 151.101.128.188 | 192.168.10.14    |          6 |            3e+06 |        4.3e+07 |               1 | BENIGN  |\n",
      "| 205 | 2017-07-07 04:22:00 | 151.101.20.134  | 192.168.10.15    |          6 |            3e+06 |        4.3e+07 |               1 | BENIGN  |\n",
      "| 210 | 2017-07-07 04:22:00 | 151.101.20.134  | 192.168.10.15    |          6 |            3e+06 |        4.3e+07 |               1 | BENIGN  |\n",
      "| 206 | 2017-07-07 04:22:00 | 96.6.167.11     | 192.168.10.25    |          6 |            3e+06 |        3.7e+07 |               1 | BENIGN  |\n",
      "+-----+---------------------+-----------------+------------------+------------+------------------+----------------+-----------------+---------+\n",
      "No se puede generar el diagrama de Sankey. Faltan columnas en los datos consolidados.\n",
      "\n",
      "[Exploración de Ataques] Proceso finalizado.\n",
      "\n",
      "[6/4] Generando histogramas para el análisis de banderas de protocolo...\n",
      "\n",
      "--- Histogramas para tráfico BENIGN ---\n"
     ]
    },
    {
     "data": {
      "image/png": "[encoded data removed]",
      "text/plain": [
       "<Figure size 2500x2500 with 22 Axes>"
      ]
     },
     "metadata": {},
     "output_type": "display_data"
    },
    {
     "name": "stdout",
     "output_type": "stream",
     "text": [
      "\n",
      "--- Histogramas para tráfico DDoS ---\n"
     ]
    },
    {
     "data": {
      "image/png": "[encoded data removed]",
      "text/plain": [
       "<Figure size 2500x2500 with 22 Axes>"
      ]
     },
     "metadata": {},
     "output_type": "display_data"
    },
    {
     "name": "stdout",
     "output_type": "stream",
     "text": [
      "\n",
      "--- [FASE DE ANÁLISIS] Proceso completado exitosamente. ---\n"
     ]
    }
   ],
   "source": [
    "import pandas as pd\n",
    "import seaborn as sns\n",
    "import plotly.graph_objects as go\n",
    "import matplotlib.pyplot as plt\n",
    "from IPython.display import display\n",
    "from typing import List, Dict\n",
    "\n",
    "# Se asume que las siguientes funciones han sido definidas y mejoradas\n",
    "# en el mismo script o importadas desde un módulo local.\n",
    "# from my_module import f_process_read_csv, f_cleaning, f_analyze_time_series, f_histogramas\n",
    "# from my_module import f_explore_network_traffic_for_scanning_activity, f_explore_system_commitment_activity\n",
    "\n",
    "def main():\n",
    "    \"\"\"\n",
    "    Función principal para orquestar el análisis de tráfico de red en la fase\n",
    "    de exploración y compromiso de ataques.\n",
    "    \"\"\"\n",
    "\n",
    "    # --- 1. CONFIGURACIÓN ---\n",
    "    # Rutas y atributos principales\n",
    "    filename = 'C:/DataSets/Produccion/Friday-WorkingHours-Afternoon-DDos.pcap_ISCX.csv'\n",
    "    MAIN_ATTRIBUTES = ['Timestamp', 'Source IP', 'Destination IP', 'Protocol',\n",
    "                       'Flow Packets/s', 'Flow Bytes/s', 'Flow Duration', 'Label']\n",
    "\n",
    "    FLAGS_LIST = ['FIN Flag Count', 'SYN Flag Count', 'RST Flag Count', 'PSH Flag Count',\n",
    "                  'ACK Flag Count', 'URG Flag Count', 'CWE Flag Count', 'ECE Flag Count']\n",
    "\n",
    "    # Rangos de tiempo para la exploración de ataques\n",
    "    SCANNING_START_TIME = '2017-07-07 03:40:00'\n",
    "    SCANNING_END_TIME = '2017-07-07 04:50:00'\n",
    "\n",
    "    COMMITMENT_START_TIME = '2017-07-07 03:40:00'\n",
    "    COMMITMENT_END_TIME = '2017-07-07 04:50:00'\n",
    "\n",
    "    print(\"--- [FASE DE ANÁLISIS] Inicio del proceso de exploración y compromiso ---\")\n",
    "\n",
    "    # --- 2. CARGA Y PREPROCESAMIENTO DE DATOS ---\n",
    "    try:\n",
    "        # **Línea corregida:** Se utiliza isinstance() para validar el tipo de dato.\n",
    "        if not isinstance(filename, str) or not filename.endswith('.csv'):\n",
    "            raise ValueError(\"El nombre de archivo debe ser una cadena y terminar con '.csv'\")\n",
    "\n",
    "        print(f\"\\n[1/4] Cargando y preprocesando datos desde: {filename}\")\n",
    "        df_raw = f_process_read_csv(filename)\n",
    "        df_cleaned = f_cleaning(df_raw.copy())\n",
    "\n",
    "        # Seleccionar las columnas principales para el análisis\n",
    "        if not all(col in df_cleaned.columns for col in MAIN_ATTRIBUTES):\n",
    "            missing_cols = [col for col in MAIN_ATTRIBUTES if col not in df_cleaned.columns]\n",
    "            raise ValueError(f\"Error: Faltan las siguientes columnas en el DataFrame: {missing_cols}\")\n",
    "\n",
    "        df_main = df_cleaned[MAIN_ATTRIBUTES]\n",
    "        print(\"[6/4] Preprocesamiento completado. DataFrame listo para el análisis.\")\n",
    "\n",
    "    except FileNotFoundError:\n",
    "        print(f\"Error: El archivo {filename} no se encuentra.\")\n",
    "        return\n",
    "    except Exception as e:\n",
    "        print(f\"Error durante la carga y preprocesamiento de datos: {e}\")\n",
    "        return\n",
    "\n",
    "    # --- 3. EXPLORACIÓN DE ATAQUES ---\n",
    "    print(\"\\n[6/4] Iniciando análisis de la fase de exploración (Scanning)...\")\n",
    "    try:\n",
    "        # Se asume que f_explore_network_traffic_for_scanning_activity utiliza el DataFrame completo\n",
    "        # para calcular umbrales estadísticos de forma robusta.\n",
    "        df_scanning_flows = f_explore_network_traffic_for_scanning_activity(\n",
    "            df=df_main,\n",
    "            start_time=SCANNING_START_TIME,\n",
    "            end_time=SCANNING_END_TIME,\n",
    "            attributes_to_display=MAIN_ATTRIBUTES\n",
    "        )\n",
    "    except Exception as e:\n",
    "        print(f\"Error durante el análisis de exploración: {e}\")\n",
    "\n",
    "    # --- 4. COMPROMISO DEL SISTEMA ---\n",
    "    print(\"\\n[6/4] Iniciando análisis de la fase de compromiso (DDoS)...\")\n",
    "    try:\n",
    "        # Se asume que f_explore_system_commitment_activity utiliza el DataFrame completo\n",
    "        df_commitment_flows = f_explore_system_commitment_activity(\n",
    "            df=df_main,\n",
    "            start_time=COMMITMENT_START_TIME,\n",
    "            end_time=COMMITMENT_END_TIME,\n",
    "            attributes_to_display=MAIN_ATTRIBUTES\n",
    "        )\n",
    "    except Exception as e:\n",
    "        print(f\"Error durante el análisis de compromiso: {e}\")\n",
    "\n",
    "    # --- 5. ANÁLISIS DE DATOS ADICIONALES (HISTOGRAMAS) ---\n",
    "    print(\"\\n[6/4] Generando histogramas para el análisis de banderas de protocolo...\")\n",
    "    try:\n",
    "        df_benign = df_main[df_main['Label'] == 'BENIGN']\n",
    "        df_ddos = df_main[df_main['Label'] == 'DDoS']\n",
    "\n",
    "        print(\"\\n--- Histogramas para tráfico BENIGN ---\")\n",
    "        f_show_histograms(df_benign)\n",
    "\n",
    "        print(\"\\n--- Histogramas para tráfico DDoS ---\")\n",
    "        f_show_histograms(df_ddos)\n",
    "\n",
    "    except Exception as e:\n",
    "        print(f\"Error durante la generación de histogramas: {e}\")\n",
    "\n",
    "       \n",
    "    print(\"\\n--- [FASE DE ANÁLISIS] Proceso completado exitosamente. ---\")\n",
    "\n",
    "\n",
    "if __name__ == \"__main__\":\n",
    "    main()"
   ]
  },
  {
   "cell_type": "code",
   "execution_count": null,
   "id": "f5544634-2f39-4451-a18e-cd529ecd53ec",
   "metadata": {},
   "outputs": [],
   "source": []
  }
 ],
 "metadata": {
  "kernelspec": {
   "display_name": "Python 3 (ipykernel)",
   "language": "python",
   "name": "python3"
  },
  "language_info": {
   "codemirror_mode": {
    "name": "ipython",
    "version": 3
   },
   "file_extension": ".py",
   "mimetype": "text/x-python",
   "name": "python",
   "nbconvert_exporter": "python",
   "pygments_lexer": "ipython3",
   "version": "3.13.2"
  }
 },
 "nbformat": 4,
 "nbformat_minor": 5
}
